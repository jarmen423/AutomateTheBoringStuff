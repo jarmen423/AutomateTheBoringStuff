{
  "nbformat": 4,
  "nbformat_minor": 0,
  "metadata": {
    "colab": {
      "name": "ABS_Chap_1.ipynb",
      "provenance": [],
      "collapsed_sections": [],
      "include_colab_link": true
    },
    "kernelspec": {
      "name": "python3",
      "display_name": "Python 3"
    }
  },
  "cells": [
    {
      "cell_type": "markdown",
      "metadata": {
        "id": "view-in-github",
        "colab_type": "text"
      },
      "source": [
        "<a href=\"https://colab.research.google.com/github/UIHackyHour/AutomateTheBoringSweigart/blob/main/01-python-basics/ABS_Chap_1.ipynb\" target=\"_parent\"><img src=\"https://colab.research.google.com/assets/colab-badge.svg\" alt=\"Open In Colab\"/></a>"
      ]
    },
    {
      "cell_type": "markdown",
      "metadata": {
        "id": "aWnRu2vwyG05"
      },
      "source": [
        "# Summary\n",
        "\n",
        "The heart of these tutorials is to learn basic programming concepts that can be transfered to other programming languages.\n",
        "\n",
        "You can compute expressions with a calculator or enter string concatenations with a word processor. You can even do string replication easily by copying and pasting text. But expressions, and their component values—operators, variables, and function calls—are the basic building blocks that make programs. Once you know how to handle these elements, you will be able to instruct Python to operate on large amounts of data for you.\n",
        "\n",
        "It is good to remember the different types of operators (`+`, `-`, `\\*`, `/`, `//`, `%`, and `**` for math operations, and `+` and `*` for string operations) and the three data types (integers, floating-point numbers, and strings) introduced in this chapter.\n",
        "\n",
        "I introduced a few different functions as well. The `print()` and `input()` functions handle simple text output (to the screen) and input (from the keyboard). The `len()` function takes a string and evaluates to an int of the number of characters in the string. The `str()`, `int()`, and `float()` functions will evaluate to the string, integer, or floating-point number form of the value they are passed."
      ]
    },
    {
      "cell_type": "markdown",
      "metadata": {
        "id": "OgH-OJMJy-A9"
      },
      "source": [
        "# Definitions \n",
        "\n",
        "* __Expression__: An expression is a combination of values, variables, operators, and calls to functions which needs to be evaluated.\n",
        "\n",
        "* __Value__: The information that is stored within a certain object.\n",
        "\n",
        "* __Variable__: A containers for storing data values. A variable is created the moment you first assign a value to it.\n",
        "\n",
        "* __Operator__: A special symbols in Python that carry out arithmetic or logical computation.\n",
        "\n",
        "* __Real numbers__: Informally, any number on the number line (e.g., 0, -1.2, -pi, pi/5, etc.).\n",
        "\n",
        "* __Integer__: These are 'whole numbers' such as 0, 1, -1, 2, -2, 3, -3, and so on.\n",
        "\n",
        "* __Rational number___: These are real numbers that can be expressed as a quotient or fraction of two integers (e.g., 0/1, 1/1, -1/1, 1/2, -3/4, etc.). Informally speaking, these are numbers with a finite decimal represention or with a pattern (0.3, 0.41, -4.4532, 4.99999..., 3.14, etc.).\n",
        "\n",
        "* __Irrational number__: These are real numbers that are not rational numbers (e.g., pi, exp, the golden ratio, sqrt(2), etc.).\n",
        "\n",
        "* __Floating point number__: Computers use decimal represenations of real numbers. Important: computers can only provide 15-16 digits of a real numbers. These representations are called floating point numbers. Floating point numbers do not form a field (i.e., binary operations are not associative with floating point numbers).\n",
        "\n",
        "* __Associative property__: A property that states that binary operations do not change regardless of grouping (e.g., (2+3)+4=2+(3+4)). Important: binary operations, like addition and subtraction, on floating point numbers are not associative on computers (e.g., `(exp(2*pi)+exp(pi))-exp(1)` and `exp(2*pi)+(exp(pi)-exp(1))` are mathematically the same, but not so with Python). Unlike mathematics, associativity is not always guarenteed on computers.\n",
        "\n",
        "* __Comment__: Beginning with an octothorpe # a comment does not execute when you run a program. Comments are in the source code for humans to read.\n",
        "\n",
        "* __Function__: A block of organized, reusable code that is used to perform a single, related action.\n",
        "\n",
        "* __Argument__: A value passed to a function (or method) when calling the function.\n",
        "\n",
        "* __Syntax__: The set of rules which defines how a Python program will be written.\n",
        "\n",
        "* __PEP-8__: The official style guide for Python code. Find out more at <https://www.python.org/dev/peps/pep-0008/>"
      ]
    },
    {
      "cell_type": "markdown",
      "metadata": {
        "id": "ce2G9xtvGc4H"
      },
      "source": [
        "# New functions covered this chapter\n",
        "\n",
        "* `str()`\n",
        "* `int()`\n",
        "* `float()`\n",
        "* `input()`\n",
        "* `print()`\n",
        "* `len()`\n",
        "* `round()`\n",
        "\n",
        "### Try using these functions, then explain what you think these functions are doing. \n",
        "#### Google them to learn more! \n",
        "(Googling is a very important skill when programming)\n"
      ]
    },
    {
      "cell_type": "markdown",
      "metadata": {
        "id": "pUgyUjSA4xOP"
      },
      "source": [
        "# Practice Questions \n",
        "1. Which of the following are operators, and which are values?\n",
        "\n",
        "* `\\*` \n",
        "* `'hello'`  \n",
        "* `-88.8`\n",
        "* `\\-`\n",
        "* `/`\n",
        "* `+`\n",
        "* `5`\n",
        "\n",
        "2. Which of the following is a variable, and which is a string?\n",
        "\n",
        "* `spam`\n",
        "* `'spam'`\n",
        "\n",
        "3. Name three data types.\n",
        "\n",
        "4. What is an expression made up of? What do all expressions do?\n",
        "\n",
        "5. This chapter introduced assignment statements, like spam = 10. What is the difference between an expression and a statement?\n",
        "\n",
        "6. What does the variable bacon contain after the following code runs?\n",
        "```\n",
        "bacon = 20\n",
        "\n",
        "bacon + 1\n",
        "```\n",
        "\n",
        "7. What should the following two expressions evaluate to?\n",
        "\n",
        "```\n",
        "'spam' + 'spamspam'\n",
        "'spam' * 3\n",
        "```\n",
        "\n",
        "8. Why is `eggs` a valid variable name while `100` is invalid?\n",
        "\n",
        "9. What three functions can be used to get the integer, floating-point number, or string version of a value?\n",
        "\n",
        "10. Why does this expression cause an error? How can you fix it?\n",
        "\n",
        "```\n",
        "'I have eaten ' + 99 + ' burritos.'\n",
        "```\n",
        "\n",
        "11. Search online for the Python documentation for the `len()` function. It will be on a web page titled “Built-in Functions.” Skim the list of other functions Python has. Look up what the `round()` function does, and experiment with it in the interactive shell."
      ]
    },
    {
      "cell_type": "markdown",
      "metadata": {
        "id": "t3D13gX0XS_P"
      },
      "source": [
        "# Practice Projects \n",
        "\n",
        "None in this chapter. "
      ]
    }
  ]
}