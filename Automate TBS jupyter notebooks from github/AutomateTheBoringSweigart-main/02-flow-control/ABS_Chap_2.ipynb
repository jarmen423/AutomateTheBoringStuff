{
  "nbformat": 4,
  "nbformat_minor": 0,
  "metadata": {
    "colab": {
      "name": "ABS_Chap_2.ipynb",
      "provenance": [],
      "collapsed_sections": [],
      "include_colab_link": true
    },
    "kernelspec": {
      "name": "python3",
      "display_name": "Python 3"
    }
  },
  "cells": [
    {
      "cell_type": "markdown",
      "metadata": {
        "id": "view-in-github",
        "colab_type": "text"
      },
      "source": [
        "<a href=\"https://colab.research.google.com/github/UIHackyHour/AutomateTheBoringSweigart/blob/main/02-flow-control/ABS_Chap_2.ipynb\" target=\"_parent\"><img src=\"https://colab.research.google.com/assets/colab-badge.svg\" alt=\"Open In Colab\"/></a>"
      ]
    },
    {
      "cell_type": "markdown",
      "metadata": {
        "id": "CgPFv9z8EZZL"
      },
      "source": [
        "# Summary\n",
        "By using expressions that evaluate to `True` or `False` (also called conditions), you can write programs that make decisions on what code to execute and what code to skip. You can also execute code over and over again in a loop while a certain condition evaluates to True. The break and continue statements are useful if you need to exit a loop or jump back to the loop’s start.\n",
        "\n",
        "These flow control statements will let you write more intelligent programs. You can also use another type of flow control by writing your own functions, which is the topic of the next chapter."
      ]
    },
    {
      "cell_type": "markdown",
      "metadata": {
        "id": "Xn6p3J0JpwFy"
      },
      "source": [
        "# Definitions\n",
        "\n",
        "* __Flow__: Decides which Python instructions to execute under which conditions.\n",
        "\n",
        "* __Boolean__: Boolean data type has only two values: `True` and `False`. Boolean values `True` and `False` lack the quotes you place around strings, and they always start with a capital T or F, with the rest of the word in lowercase.\n",
        "\n",
        "* __Comparison operators__: Compares two expressions and evaluates them down to a single Boolean value: either `True` or `False`. E.g., `True==True`, `0<5`, `5=!4`, `6<=6`, `9>=2` all evaluate down to the Boolean value `True`.\n",
        "\n",
        "* __Binary operation__: An operator that maps two expressions to one expression. For example, the `and` and `or` operators always take two Boolean values (or expressions) and maps them to either `True` or `False`. The `and` operator evaluates an expression to `True` if both Boolean values are `True` or both are `False`; otherwise, it evaluates to `False`. \n",
        "\n",
        "* __Truth table__: Shows all possible results of a Boolean operator. (see more at <https://en.wikipedia.org/wiki/Truth_table>).\n",
        "\n",
        "* __Unary operation__: An operator that evaluates one expression and maps it to one expression. For example, `not` operator operates on only one Boolean value (or expression).\n",
        "\n",
        "* __Condition__ and __clause__: The condition evaluates expressions to `True` or `False`. A flow control uses the condition to decide what happens next. The clause(s) is what happens next\n",
        "\n",
        "* __While loop__: A block of code that will execute over and over again until the condition of the while loop is met. \n",
        "\n",
        "* __Break statement__: Preemptively terminates while loops.\n",
        "\n",
        "* __Continue statement__: Restarts a while loop.\n",
        "\n",
        "* __For loop__: Executes a flow control for a certain number of times.\n",
        "\n",
        "* __Built-in functions__: Python functions that do not require an import of a library.\n",
        "\n",
        "* __Module__: A set of functions that can be imported into a Python environment.\n"
      ]
    },
    {
      "cell_type": "markdown",
      "metadata": {
        "id": "H9FFV_wWHPNb"
      },
      "source": [
        "# New functions covered this chapter\n",
        "\n",
        "* `range()`\n",
        "* `random.randint()` requires `import random`\n",
        "* `sys.exit()` requires `import sys`\n",
        "* `abs()`\n",
        "* `math.pi` require `import math`\n",
        "* `math.exp()` requires `import math`\n",
        "\n",
        "### Try using these functions, then explain what you think these functions are doing. \n",
        "#### Google them to learn more! \n",
        "(Googling is a very important skill when programming)"
      ]
    },
    {
      "cell_type": "markdown",
      "metadata": {
        "id": "Ik9bvLG1m0dV"
      },
      "source": [
        "# Practice Questions\n",
        "\n",
        "\n",
        "1.   What are the two values of the Boolean data type? How do you write them?\n",
        "\n",
        "2.   What are the three Boolean operators?\n",
        "\n",
        "3.   Write out the truth tables of each Boolean operator (that is, every possible combination of Boolean values for the operator and what they evaluate to).\n",
        "\n",
        "4.   What do the following expressions evaluate to?\n",
        "_____________________________________\n",
        "```\n",
        "(5 > 4) and (3 == 5)\n",
        "\n",
        "not (5 > 4)\n",
        "\n",
        "(5 > 4) or (3 == 5)\n",
        "\n",
        "not ((5 > 4) or (3 == 5))\n",
        "\n",
        "(True and True) and (True == False)\n",
        "\n",
        "(not False) or (not True)\n",
        "```\n",
        "_____________________________________\n",
        "\n",
        "5.   What are the six comparison operators?\n",
        "\n",
        "6.   What is the difference between the equal to operator and the assignment operator?\n",
        "\n",
        "7.   Explain what a condition is and where you would use one.\n",
        "\n",
        "8.   Identify the three blocks in this code:\n",
        "____________________________________\n",
        "```\n",
        "spam = 0\n",
        "if spam == 10:\n",
        "    print('eggs')\n",
        "    if spam > 5:\n",
        "        print('bacon')\n",
        "    else:\n",
        "        print('ham')\n",
        "    print('spam')\n",
        "print('spam')\n",
        "```\n",
        "____________________________________\n",
        "\n",
        "9.   Write code that prints Hello if `1` is stored in `spam`, prints Howdy if `2` is stored in `spam`, and prints `Greetings!` if anything else is stored in `spam`.\n",
        "\n",
        "10.   What keys can you press if your program is stuck in an infinite loop?\n",
        "\n",
        "11.   What is the difference between `break` and `continue`?\n",
        "\n",
        "12.   What is the difference between `range(10)`, `range(0, 10)`, and `range(0, 10, 1)` in a `for` loop?\n",
        "\n",
        "13.   Write a short program that prints the numbers `1` to `10` using a for loop. Then write an equivalent program that prints the numbers `1` to `10` using a while loop.\n",
        "\n",
        "14.   If you had a function named `bacon()` inside a module named `spam`, how would you call it after importing `spam`?\n",
        "\n",
        "15.   Look up the `round()` and `abs()` functions on the internet, and find out what they do. Experiment with them in the interactive shell.\n",
        "\n",
        "16. Observe that floating point numbers are not associative by running the code below:\n",
        "```\n",
        "import math\n",
        "if (math.exp(2*math.pi)+math.exp(math.pi))-math.exp(1)==math.exp(2*math.pi)+(math.exp(math.pi)-math.exp(1)):\n",
        "        print(\"True\")\n",
        "else:\n",
        "        print(\"False\")\n",
        "```"
      ]
    },
    {
      "cell_type": "markdown",
      "metadata": {
        "id": "HTXC1iV7XaEX"
      },
      "source": [
        "# Practice Projects \n",
        "\n",
        "None this chapter. "
      ]
    }
  ]
}