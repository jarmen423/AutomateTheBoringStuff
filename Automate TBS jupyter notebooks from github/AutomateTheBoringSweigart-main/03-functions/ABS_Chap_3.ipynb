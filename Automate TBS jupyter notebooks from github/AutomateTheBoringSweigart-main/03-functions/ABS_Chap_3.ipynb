{
  "nbformat": 4,
  "nbformat_minor": 0,
  "metadata": {
    "colab": {
      "name": "ABS_Chap_3.ipynb",
      "provenance": [],
      "collapsed_sections": [],
      "include_colab_link": true
    },
    "kernelspec": {
      "name": "python3",
      "display_name": "Python 3",
      "language": "python"
    }
  },
  "cells": [
    {
      "cell_type": "markdown",
      "metadata": {
        "id": "view-in-github",
        "colab_type": "text"
      },
      "source": [
        "<a href=\"https://colab.research.google.com/github/UIHackyHour/AutomateTheBoringSweigart/blob/main/03-functions/ABS_Chap_3.ipynb\" target=\"_parent\"><img src=\"https://colab.research.google.com/assets/colab-badge.svg\" alt=\"Open In Colab\"/></a>"
      ]
    },
    {
      "cell_type": "markdown",
      "metadata": {
        "id": "CWw9BBSCGN2k"
      },
      "source": [
        "# Summary \n",
        "\n",
        "Functions are the primary way to compartmentalize your code into logical groups. Since the variables in functions exist in their own local scopes, the code in one function cannot directly affect the values of variables in other functions. This limits what code could be changing the values of your variables, which can be helpful when it comes to debugging your code.\n",
        "\n",
        "Functions are a great tool to help you organize your code. You can think of them as black boxes: they have inputs in the form of parameters and outputs in the form of return values, and the code in them doesn’t affect variables in other functions. \n",
        "\n",
        "In previous chapters, a single error could cause your programs to crash. In this chapter, you learned about `try` and `except` statements, which can run code when an error has been detected. This can make your programs more resilient to common error cases."
      ]
    },
    {
      "cell_type": "markdown",
      "metadata": {
        "id": "w26dGGHMFXwi"
      },
      "source": [
        "# Definitions\n",
        "\n",
        "* __Parameter__: Calling on a function will assign the arguement to a variable, called a parameter, inside the parentheses of the function definition. A parameter is forgotten when the function returns. See \"argument\" definition.\n",
        "\n",
        "* __Keyword argument__: Often used to make function calls more explicit. Keyword arguments are parameters defined by a `keyword=value` in a function call.\n",
        "\n",
        "* __Positional argument__: Often used when multiple arguments. Positional arguments need to be included in the proper position or order in a function call.\n",
        "\n",
        "* __Local scope__: Refers to all instances of a program within a function that only exists so long as the function is active.\n",
        "\n",
        "* __Global scope__: Refers to all instances of code within a program, except for local scopes unless explicity stated otherwise (with the `global` statement in a function).\n",
        "\n",
        "* __Exception__: Errors detected by Python during execution of code."
      ]
    },
    {
      "cell_type": "markdown",
      "metadata": {
        "id": "MCtKzlyQIdk1"
      },
      "source": [
        "# New functions covered this chapter\n",
        "\n",
        "* `time.sleep()` requires `import time`\n",
        "\n",
        "### Try using these functions, then explain what you think these functions are doing. \n",
        "#### Google them to learn more! \n",
        "(Googling is a very important skill when programming)\n"
      ]
    },
    {
      "cell_type": "markdown",
      "metadata": {
        "id": "iAEg50S5LhjJ"
      },
      "source": [
        "# Code snippets from this chapter"
      ]
    },
    {
      "cell_type": "code",
      "metadata": {
        "id": "PPqHOzppLDIc"
      },
      "source": [
        "# helloFunc.py\n",
        "\n",
        "def hello():\n",
        "    print('Howdy!')\n",
        "    print('Howdy!!!')\n",
        "    print('Hello there.')\n",
        "\n",
        "hello()\n",
        "hello()\n",
        "hello()"
      ],
      "execution_count": null,
      "outputs": []
    },
    {
      "cell_type": "code",
      "metadata": {
        "id": "ZaHqYwJPLD0z"
      },
      "source": [
        "# helloFunc2.py\n",
        "\n",
        "def hello(name):\n",
        "    print('Hello, ' + name)\n",
        "\n",
        "hello('Alice')\n",
        "hello('Bob')"
      ],
      "execution_count": null,
      "outputs": []
    },
    {
      "cell_type": "code",
      "metadata": {
        "id": "jd_-g6eGLmG4"
      },
      "source": [
        "# magic8Ball.py\n",
        "\n",
        "import random\n",
        "\n",
        "def getAnswer(answerNumber):\n",
        "    if answerNumber == 1:\n",
        "        return 'It is certain'\n",
        "    elif answerNumber == 2:\n",
        "        return 'It is decidedly so'\n",
        "    elif answerNumber == 3:\n",
        "        return 'Yes'\n",
        "    elif answerNumber == 4:\n",
        "        return 'Reply hazy try again'\n",
        "    elif answerNumber == 5:\n",
        "        return 'Ask again later'\n",
        "    elif answerNumber == 6:\n",
        "        return 'Concentrate and ask again'\n",
        "    elif answerNumber == 7:\n",
        "        return 'My reply is no'\n",
        "    elif answerNumber == 8:\n",
        "        return 'Outlook not so good'\n",
        "    elif answerNumber == 9:\n",
        "        return 'Very doubtful'\n",
        "\n",
        "r = random.randint(1, 9)\n",
        "fortune = getAnswer(r)\n",
        "print(fortune)"
      ],
      "execution_count": null,
      "outputs": []
    },
    {
      "cell_type": "code",
      "metadata": {
        "id": "vEtCs9guNZAY"
      },
      "source": [
        "# abcdCallStack.py\n",
        "\n",
        "def a():\n",
        "    print('a() starts')\n",
        "    b()\n",
        "    d()\n",
        "    print('a() returns')\n",
        "\n",
        "def b():\n",
        "    print('b() starts')\n",
        "    c()\n",
        "    print('b() returns')\n",
        "\n",
        "def c():\n",
        "    print('c() starts')\n",
        "    print('c() returns')\n",
        "\n",
        "def d():\n",
        "    print('d() starts')\n",
        "    print('d() returns')\n",
        "\n",
        "a()"
      ],
      "execution_count": null,
      "outputs": []
    },
    {
      "cell_type": "code",
      "metadata": {
        "id": "wQgpuXBbMDbx"
      },
      "source": [
        "# localGlobalSameName.py\n",
        "\n",
        "def spam():\n",
        "    eggs = 'spam local'\n",
        "    print(eggs)    # prints 'spam local'\n",
        "\n",
        "def bacon():\n",
        "    eggs = 'bacon local'\n",
        "    print(eggs)    # prints 'bacon local'\n",
        "    spam()\n",
        "    print(eggs)    # prints 'bacon local'\n",
        "\n",
        "eggs = 'global'\n",
        "bacon()\n",
        "print(eggs)        # prints 'global'"
      ],
      "execution_count": null,
      "outputs": []
    },
    {
      "cell_type": "code",
      "metadata": {
        "id": "zVRj8t-hMpsL"
      },
      "source": [
        "# globalStatement.py\n",
        "\n",
        "def spam():\n",
        "    global eggs\n",
        "    eggs = 'spam'\n",
        "\n",
        "eggs = 'global'\n",
        "spam()\n",
        "print(eggs)"
      ],
      "execution_count": null,
      "outputs": []
    },
    {
      "cell_type": "code",
      "metadata": {
        "id": "ziMpuHyjMwS5"
      },
      "source": [
        "# sameNameLocalGlobal.py\n",
        "\n",
        "def spam():\n",
        "    global eggs\n",
        "    eggs = 'spam' # this is the global\n",
        "\n",
        "def bacon():\n",
        "    eggs = 'bacon' # this is a local\n",
        "\n",
        "def ham():\n",
        "    print(eggs) # this is the global\n",
        "\n",
        "eggs = 42 # this is the global\n",
        "spam()\n",
        "print(eggs)"
      ],
      "execution_count": null,
      "outputs": []
    },
    {
      "cell_type": "code",
      "metadata": {
        "id": "_KbumNElM01w"
      },
      "source": [
        "# sameNameError.py\n",
        "\n",
        "def spam():\n",
        "    print(eggs) # ERROR!\n",
        "    eggs = 'spam local'\n",
        "\n",
        "eggs = 'global'\n",
        "spam()"
      ],
      "execution_count": null,
      "outputs": []
    },
    {
      "cell_type": "code",
      "metadata": {
        "id": "Ay3FxxhLM_EW"
      },
      "source": [
        "# zeroDivide.py \n",
        "\n",
        "def spam(divideBy):\n",
        "    try:\n",
        "        return 42 / divideBy\n",
        "    except ZeroDivisionError:\n",
        "        print('Error: Invalid argument.')\n",
        "\n",
        "print(spam(2))\n",
        "print(spam(12))\n",
        "print(spam(0))\n",
        "print(spam(1))"
      ],
      "execution_count": null,
      "outputs": []
    },
    {
      "cell_type": "markdown",
      "metadata": {
        "id": "feoqLfYQT9aK"
      },
      "source": [
        "# Practice Questions\n",
        "\n",
        "\n",
        "1. Why are functions advantageous to have in your programs?\n",
        "\n",
        "2. When does the code in a function execute: when the function is defined or when the function is called?\n",
        "\n",
        "3. What statement creates a function?\n",
        "\n",
        "4. What is the difference between a function and a function call?\n",
        "\n",
        "5. How many global scopes are there in a Python program? How many local scopes?\n",
        "\n",
        "6. What happens to variables in a local scope when the function call returns?\n",
        "\n",
        "7. What is a return value? Can a return value be part of an expression?\n",
        "\n",
        "8. If a function does not have a `return` statement, what is the return value of a call to that function?\n",
        "\n",
        "9. How can you force a variable in a function to refer to the global variable?\n",
        "\n",
        "10. What is the data type of `None`?\n",
        "\n",
        "11. What does the `import areallyourpetsnamederic statement` do?\n",
        "\n",
        "12. If you had a function named `bacon()` in a module named `spam`, how would you call it after importing `spam`?\n",
        "\n",
        "13. How can you prevent a program from crashing when it gets an error?\n",
        "\n",
        "14. What goes in the `try` clause? What goes in the `except` clause?\n",
        "\n",
        "15. Are parameters of a function, that are defined at the beginning of your script, in a local scope or the global scope?"
      ]
    },
    {
      "cell_type": "markdown",
      "metadata": {
        "id": "Y5QKWbZtU9RS"
      },
      "source": [
        "# Practice Projects\n",
        " \n",
        "## *The Collatz Sequence*\n",
        "\n",
        "Write a function named `collatz()` that has one parameter named `number`. If `number` is even, then `collatz()` should print `number // 2` and return this value. If number is odd, then `collatz()` should print and return `3 * number + 1`.\n",
        "\n",
        "Then write a program that lets the user type in an integer and that keeps calling `collatz()` on that number until the function returns the value 1. (Amazingly enough, this sequence actually works for any integer—sooner or later, using this sequence, you’ll arrive at 1! Even mathematicians aren’t sure why. Your program is exploring what’s called the *Collatz sequence*, sometimes called “the simplest impossible math problem.”)\n",
        "\n",
        "Remember to convert the return value from `input()` to an integer with the `int()` function; otherwise, it will be a string value.\n",
        "\n",
        "Hint: An integer number is even if `number % 2 == 0`, and it’s odd if `number % 2 == 1`.\n",
        "\n",
        "The output of this program could look something like this:\n",
        "___\n",
        "```\n",
        "Enter number:\n",
        "\n",
        "3\n",
        "\n",
        "10\n",
        "\n",
        "5\n",
        "\n",
        "16\n",
        "\n",
        "8\n",
        "\n",
        "4\n",
        "\n",
        "2\n",
        "\n",
        "1\n",
        "```\n",
        "___\n",
        "\n"
      ]
    },
    {
      "source": [
        "## *Input Validation*\n",
        "\n",
        "Add `try` and `except` statements to the previous project to detect whether the user types in a noninteger string. Normally, the `int()` function will raise a `ValueError` error if it is passed a noninteger string, as in `int('puppy')`. In the `except` clause, print a message to the user saying they must enter an integer."
      ],
      "cell_type": "markdown",
      "metadata": {}
    }
  ]
}