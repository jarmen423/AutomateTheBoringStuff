{
  "nbformat": 4,
  "nbformat_minor": 0,
  "metadata": {
    "colab": {
      "name": "ABS_Chap_4.ipynb",
      "provenance": [],
      "collapsed_sections": [],
      "authorship_tag": "ABX9TyNutdsCXO3ud+5tmtim+oas",
      "include_colab_link": true
    },
    "kernelspec": {
      "name": "python3",
      "display_name": "Python 3",
      "language": "python"
    }
  },
  "cells": [
    {
      "cell_type": "markdown",
      "metadata": {
        "id": "view-in-github",
        "colab_type": "text"
      },
      "source": [
        "<a href=\"https://colab.research.google.com/github/UIHackyHour/AutomateTheBoringSweigart/blob/main/04-lists/ABS_Chap_4.ipynb\" target=\"_parent\"><img src=\"https://colab.research.google.com/assets/colab-badge.svg\" alt=\"Open In Colab\"/></a>"
      ]
    },
    {
      "cell_type": "markdown",
      "metadata": {
        "id": "Sd_5MFHY8Jcv"
      },
      "source": [
        "# Summary \n",
        "\n",
        "Lists are useful data types since they allow you to write code that works on a modifiable number of values in a single variable. Later in this book, you will see programs using lists to do things that would be difficult or impossible to do without them.\n",
        "\n",
        "Lists are a sequence data type that is mutable, meaning that their contents can change. Tuples and strings, though also sequence data types, are immutable and cannot be changed. A variable that contains a tuple or string value can be overwritten with a new tuple or string value, but this is not the same thing as modifying the existing value in place—like, say, the `append()` or `remove()` methods do on lists.\n",
        "\n",
        "Variables do not store list values directly; they store references to lists. This is an important distinction when you are copying variables or passing lists as arguments in function calls. Because the value that is being copied is the list reference, be aware that any changes you make to the list might impact another variable in your program. You can use `copy()` or `deepcopy()` if you want to make changes to a list in one variable without modifying the original list.\n",
        "\n"
      ]
    },
    {
      "cell_type": "markdown",
      "metadata": {
        "id": "ylQkWkMkFbB9"
      },
      "source": [
        "# Definitions\n",
        "\n",
        "* __List__: A data structure in Python that is a mutable ordered sequence of elements, called items, contained within brackets `[]`\n",
        "\n",
        "* __Index__: Refers to a position within a list, string, or other ordered sequence.\n",
        "\n",
        "* __Method__: A function that is available for a given object because of the object's type.\n",
        "\n",
        "* __In place__: Making a change to a Python object without returning a copy.\n",
        "\n",
        "* __Mutable__: An object in Python is said to be mutable when it can be changed after it is created.\n",
        "\n",
        "* __Tuple__: A data structure in Python that is an ordered sequence of elements, like a list, but is immutable and contained within parentheses `()`\n",
        "\n",
        "* __Reference__: A name that refers to the specific location in memory of a Python object."
      ]
    },
    {
      "source": [
        "# Modules covered in this chapter\n",
        "\n",
        "* `random`\n",
        "* `copy`"
      ],
      "cell_type": "markdown",
      "metadata": {}
    },
    {
      "cell_type": "markdown",
      "metadata": {
        "id": "aoLKC3h-FJpf"
      },
      "source": [
        "# New functions covered this chapter\n",
        "\n",
        "* `enumerate()`\n",
        "* `random.choice()`\n",
        "* `random.shuffle()`\n",
        "* *listName*`.index()`\n",
        "* *listName*`.append()` \n",
        "* *listName*`.insert()`\n",
        "* *listName*`.remove()`\n",
        "* *listName*`.sort()`\n",
        "* *listName*`.reverse()`\n",
        "* `list()`\n",
        "* `tuple()`\n",
        "* `id()`\n",
        "* `copy.copy()`\n",
        "* `copy.deepcopy()`\n",
        "\n",
        "\n",
        "### Try using these functions, then explain what you think these functions are doing. \n",
        "#### Google them to learn more! \n",
        "(Googling is a very important skill when programming)"
      ]
    },
    {
      "cell_type": "markdown",
      "metadata": {
        "id": "vV6xP5O0L-ot"
      },
      "source": [
        "# Code snippets from this chapter"
      ]
    },
    {
      "cell_type": "code",
      "metadata": {
        "id": "lo-WiAEjL_N9"
      },
      "source": [
        "# allMyCats1.py \n",
        "\n",
        "print('Enter the name of cat 1:')\n",
        "catName1 = input()\n",
        "print('Enter the name of cat 2:')\n",
        "catName2 = input()\n",
        "print('Enter the name of cat 3:')\n",
        "catName3 = input()\n",
        "print('Enter the name of cat 4:')\n",
        "catName4 = input()\n",
        "print('Enter the name of cat 5:')\n",
        "catName5 = input()\n",
        "print('Enter the name of cat 6:')\n",
        "catName6 = input()\n",
        "print('The cat names are:')\n",
        "print(catName1 + ' ' + catName2 + ' ' + catName3 + ' ' + catName4 + ' ' +\n",
        "catName5 + ' ' + catName6)"
      ],
      "execution_count": null,
      "outputs": []
    },
    {
      "cell_type": "code",
      "metadata": {
        "id": "mOTakv-NMO9n"
      },
      "source": [
        "# allMyCats2.py \n",
        "\n",
        "catNames = []\n",
        "while True:\n",
        "    print('Enter the name of cat ' + str(len(catNames) + 1) +\n",
        "            ' (Or enter nothing to stop.):')\n",
        "    name = input()\n",
        "    if name == '':\n",
        "        break\n",
        "    catNames = catNames + [name]  # list concatenation\n",
        "print('The cat names are:')\n",
        "for name in catNames:\n",
        "    print('  ' + name)"
      ],
      "execution_count": null,
      "outputs": []
    },
    {
      "cell_type": "code",
      "metadata": {
        "id": "RmeGdvmKMVuo"
      },
      "source": [
        "# myPets.py\n",
        "\n",
        "myPets = ['Zophie', 'Pooka', 'Fat-tail']\n",
        "print('Enter a pet name:')\n",
        "name = input()\n",
        "if name not in myPets:\n",
        "    print('I do not have a pet named ' + name)\n",
        "else:\n",
        "    print(name + ' is my pet.')"
      ],
      "execution_count": null,
      "outputs": []
    },
    {
      "cell_type": "code",
      "metadata": {
        "id": "AFnUGCAEM_mt"
      },
      "source": [
        "# magic8Ball2.py\n",
        "\n",
        "import random\n",
        "\n",
        "messages = ['It is certain',\n",
        "    'It is decidedly so',\n",
        "    'Yes definitely',\n",
        "    'Reply hazy try again',\n",
        "    'Ask again later',\n",
        "    'Concentrate and ask again',\n",
        "    'My reply is no',\n",
        "    'Outlook not so good',\n",
        "    'Very doubtful']\n",
        "\n",
        "print(messages[random.randint(0, len(messages) - 1)])"
      ],
      "execution_count": null,
      "outputs": []
    },
    {
      "cell_type": "code",
      "metadata": {
        "id": "xR8Pa4FONNvX"
      },
      "source": [
        "# passingReference.py\n",
        "\n",
        "def eggs(someParameter):\n",
        "    someParameter.append('Hello')\n",
        "\n",
        "spam = [1, 2, 3]\n",
        "eggs(spam)\n",
        "print(spam)"
      ],
      "execution_count": null,
      "outputs": []
    },
    {
      "cell_type": "markdown",
      "metadata": {
        "id": "wOa7ap1dX9yw"
      },
      "source": [
        "# Practice Questions\n",
        " \n",
        "1. What is `[]` ?\n",
        "\n",
        "2. How would you assign the value 'hello' as the third value in a list stored in a variable named spam? Assume spam contains `[2, 4, 6, 8, 10]`\n",
        "\n",
        "### For the following three questions, let’s say spam contains the list `['a', 'b', 'c', 'd']`.\n",
        "\n",
        "3. What does `spam[int(int('3' * 2) // 11)]` evaluate to?\n",
        "\n",
        "4. What does `spam[-1]` evaluate to?\n",
        "\n",
        "5. What does `spam[:2]` evaluate to?\n",
        "\n",
        "### For the following three questions, let’s say bacon contains the list `[3.14, 'cat', 11, 'cat', True]`.\n",
        "\n",
        "6. What does `bacon.index('cat')` evaluate to?\n",
        "\n",
        "7. What does `bacon.append(99)` make the list value in bacon look like?\n",
        "\n",
        "8. What does `bacon.remove('cat')` make the list value in bacon look like?\n",
        "\n",
        "9. What are the operators for list concatenation and list replication?\n",
        "\n",
        "10. What is the difference between the `append()` and `insert()` list methods?\n",
        "\n",
        "11. What are two ways to remove values from a list?\n",
        "\n",
        "12. Name a few ways that list values are similar to string values.\n",
        "\n",
        "13. What is the difference between lists and tuples?\n",
        "\n",
        "14. How do you type the tuple value that has just the integer value `42` in it?\n",
        "\n",
        "15. How can you get the tuple form of a list value? How can you get the list form of a tuple value?\n",
        "\n",
        "16. Variables that “contain” list values don’t actually contain lists directly. What do they contain instead?\n",
        "\n",
        "17. What is the difference between `copy.copy()` and `copy.deepcopy()`?\n",
        "\n"
      ]
    },
    {
      "source": [
        "# Practice Projects "
      ],
      "cell_type": "markdown",
      "metadata": {}
    },
    {
      "cell_type": "markdown",
      "metadata": {
        "id": "CO4nU1Egb-gs"
      },
      "source": [
        "## Comma Code\n",
        "Say you have a list value like this:\n",
        "\n",
        "`spam = ['apples', 'bananas', 'tofu', 'cats']`\n",
        "\n",
        "Write a function that takes a list value as an argument and returns a string with all the items separated by a comma and a space, with and inserted before the last item. For example, passing the previous spam list to the function would return 'apples, bananas, tofu, and cats'. But your function should be able to work with any list value passed to it. Be sure to test the case where an empty list `[]` is passed to your function.\n"
      ]
    },
    {
      "cell_type": "markdown",
      "metadata": {
        "id": "NA6kJW51chKZ"
      },
      "source": [
        "## Coin Flip Streaks \n",
        "\n",
        "For this exercise, we’ll try doing an experiment. If you flip a coin 100 times and write down an “H” for each heads and “T” for each tails, you’ll create a list that looks like “T T T T H H H H T T.” If you ask a human to make up 100 random coin flips, you’ll probably end up with alternating head-tail results like “H T H T H H T H T T,” which looks random (to humans), but isn’t mathematically random. A human will almost never write down a streak of six heads or six tails in a row, even though it is highly likely to happen in truly random coin flips. Humans are predictably bad at being random.\n",
        "\n",
        "Write a program to find out how often a streak of six heads or a streak of six tails comes up in a randomly generated list of heads and tails. Your program breaks up the experiment into two parts: the first part generates a list of randomly selected 'heads' and 'tails' values, and the second part checks if there is a streak in it. Put all of this code in a loop that repeats the experiment 10,000 times so we can find out what percentage of the coin flips contains a streak of six heads or tails in a row. As a hint, the function call random.randint(0, 1) will return a 0 value 50% of the time and a 1 value the other 50% of the time.\n",
        "\n",
        "You can start with the following template:"
      ]
    },
    {
      "cell_type": "code",
      "metadata": {
        "id": "oD2BBqPJcrl5"
      },
      "source": [
        "# Coin Flip Steak\n",
        "import random\n",
        "numberOfStreaks = 0\n",
        "for experimentNumber in range(10000):\n",
        "    # Code that creates a list of 100 'heads' or 'tails' values.\n",
        "\n",
        "    # Code that checks if there is a streak of 6 heads or tails in a row.\n",
        "print('Chance of streak: %s%%' % (numberOfStreaks / 100))\n",
        "\n",
        "# Of course, this is only an estimate, but 10,000 is a decent sample size. \n",
        "# Some knowledge of mathematics could give you the exact answer and save you \n",
        "# the trouble of writing a program, but programmers are notoriously bad at math"
      ],
      "execution_count": null,
      "outputs": []
    },
    {
      "cell_type": "markdown",
      "metadata": {
        "id": "gABO2q6gdA6C"
      },
      "source": [
        "## Character Picture Grid \n",
        "\n",
        "Say you have a list of lists where each value in the inner lists is a one-character string, like this:\n",
        "```\n",
        "grid = [['.', '.', '.', '.', '.', '.'],\n",
        "        ['.', 'O', 'O', '.', '.', '.'],\n",
        "        ['O', 'O', 'O', 'O', '.', '.'],\n",
        "        ['O', 'O', 'O', 'O', 'O', '.'],\n",
        "        ['.', 'O', 'O', 'O', 'O', 'O'],\n",
        "        ['O', 'O', 'O', 'O', 'O', '.'],\n",
        "        ['O', 'O', 'O', 'O', '.', '.'],\n",
        "        ['.', 'O', 'O', '.', '.', '.'],\n",
        "        ['.', '.', '.', '.', '.', '.']]\n",
        "```\n",
        "Think of `grid[x][y]` as being the character at the x- and y-coordinates of a “picture” drawn with text characters. The `(0, 0)` origin is in the upper-left corner, the x-coordinates increase going right, and the y-coordinates increase going down.\n",
        "\n",
        "Copy the previous grid value, and write code that uses it to print the image.\n",
        "```\n",
        "..OO.OO..\n",
        ".OOOOOOO.\n",
        ".OOOOOOO.\n",
        "..OOOOO..\n",
        "...OOO...\n",
        "....O....\n",
        "```\n",
        "Hint: You will need to use a loop in a loop in order to print `grid[0][0]`, then `grid[1][0]`, then `grid[2][0]`, and so on, up to `grid[8][0]`. This will finish the first row, so then print a newline. Then your program should print `grid[0][1]`, then `grid[1][1]`, then `grid[2][1]`, and so on. The last thing your program will print is `grid[8][5]`.\n",
        "\n",
        "Also, remember to pass the `end` keyword argument to `print()` if you don’t want a newline printed automatically after each `print()` call."
      ]
    }
  ]
}