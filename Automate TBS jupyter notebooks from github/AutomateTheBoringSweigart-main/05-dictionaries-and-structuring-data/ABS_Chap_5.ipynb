{
  "nbformat": 4,
  "nbformat_minor": 0,
  "metadata": {
    "colab": {
      "name": "ABS_Chap_5.ipynb",
      "provenance": [],
      "collapsed_sections": [],
      "include_colab_link": true
    },
    "kernelspec": {
      "name": "python3",
      "display_name": "Python 3"
    }
  },
  "cells": [
    {
      "cell_type": "markdown",
      "metadata": {
        "id": "view-in-github",
        "colab_type": "text"
      },
      "source": [
        "<a href=\"https://colab.research.google.com/github/UIHackyHour/AutomateTheBoringSweigart/blob/main/05-dictionaries-and-structuring-data/ABS_Chap_5.ipynb\" target=\"_parent\"><img src=\"https://colab.research.google.com/assets/colab-badge.svg\" alt=\"Open In Colab\"/></a>"
      ]
    },
    {
      "cell_type": "markdown",
      "metadata": {
        "id": "DJJ4ZfysznzG"
      },
      "source": [
        "# Summary\n",
        "\n",
        "You learned all about dictionaries in this chapter. Lists and dictionaries are values that can contain multiple values, including other lists and dictionaries. Dictionaries are useful because you can map one item (the key) to another (the value), as opposed to lists, which simply contain a series of values in order. Values inside a dictionary are accessed using square brackets just as with lists. Instead of an integer index, dictionaries can have keys of a variety of data types: integers, floats, strings, or tuples. By organizing a program’s values into data structures, you can create representations of real-world objects. You saw an example of this with a tic-tac-toe board."
      ]
    },
    {
      "cell_type": "markdown",
      "metadata": {
        "id": "ynhVb91zz6IW"
      },
      "source": [
        "# Definition\n",
        "\n",
        "* __Dictionary__: A mutable collection of unorded values indexed by keys.\n",
        "\n",
        "* __Key__: Each value in a dictionary is assigned a key, similar to how values in a list are assigned a integer.\n",
        "\n",
        "* __Value__: Values are stored in a dictionary and indexed by a key.\n",
        "\n",
        "* __Item__: Item refers to the pair value and key, together.\n"
      ]
    },
    {
      "source": [
        "# New modules covered in this chapter\n",
        "\n",
        "* `pprint`"
      ],
      "cell_type": "markdown",
      "metadata": {}
    },
    {
      "cell_type": "markdown",
      "metadata": {
        "id": "ilDQsDjS0C-D"
      },
      "source": [
        "# New functions covered in this chapter\n",
        "\n",
        "\n",
        "* `keys()`\n",
        "\n",
        "* `list(`*dictionaryname*`)`\n",
        "\n",
        "* *dictionaryname*`.values()`\n",
        "\n",
        "* *dictionaryname*`.items()`\n",
        "\n",
        "* *dictionaryname*`.get()`\n",
        "\n",
        "* *dictionaryname*`.setdefault()`\n",
        "\n",
        "* `pprint.pprint()`\n",
        "\n",
        "* `pprint.pformat()`\n",
        "\n",
        "### Try using these functions, then explain what you think these functions are doing. \n",
        "#### Google them to learn more! \n",
        "(Googling is a very important skill when programming)\n",
        "\n"
      ]
    },
    {
      "cell_type": "markdown",
      "metadata": {
        "id": "B7cFMib1haDZ"
      },
      "source": [
        "# Code Snippets"
      ]
    },
    {
      "cell_type": "code",
      "metadata": {
        "id": "mr5sDHNEhg4H"
      },
      "source": [
        "# birthdays.py\r\n",
        "\r\n",
        "birthdays = {'Alice': 'Apr 1', 'Bob': 'Dec 12', 'Carol': 'Mar 4'}\r\n",
        "\r\n",
        "while True:\r\n",
        "    print('Enter a name: (blank to quit)')\r\n",
        "    name = input()\r\n",
        "    if name == '':\r\n",
        "        break\r\n",
        "    if name in birthdays:\r\n",
        "        print(birthdays[name] + ' is the birthday of ' + name)\r\n",
        "    else:\r\n",
        "        print('I do not have birthday information for ' + name)\r\n",
        "        print('What is their birthday?')\r\n",
        "        bday = input()\r\n",
        "        birthdays[name] = bday\r\n",
        "        print('Birthday database updated.')"
      ],
      "execution_count": null,
      "outputs": []
    },
    {
      "cell_type": "code",
      "metadata": {
        "id": "mIiA0v_jiTAU"
      },
      "source": [
        "# characterCount.py\r\n",
        "\r\n",
        "message = 'It was a bright cold day in April, and the clocks were striking thirteen.'\r\n",
        "count = {}\r\n",
        "\r\n",
        "for character in message:\r\n",
        "    count.setdefault(character, 0)\r\n",
        "    count[character] = count[character] + 1\r\n",
        "\r\n",
        "print(count)    "
      ],
      "execution_count": null,
      "outputs": []
    },
    {
      "cell_type": "code",
      "metadata": {
        "id": "h3tX8gDFieeX"
      },
      "source": [
        "# prettyCharacterCount.py\r\n",
        "\r\n",
        "import pprint\r\n",
        "message = 'It was a bright cold day in April, and the clocks were striking thirteen.'\r\n",
        "count = {}\r\n",
        "\r\n",
        "for character in message:\r\n",
        "    count.setdefault(character, 0)\r\n",
        "    count[character] = count[character] + 1\r\n",
        "\r\n",
        "pprint.pprint(count) "
      ],
      "execution_count": null,
      "outputs": []
    },
    {
      "cell_type": "code",
      "metadata": {
        "id": "PNQxG2PviwNY"
      },
      "source": [
        "# ticTacToe.py\r\n",
        "\r\n",
        "theBoard = {'top-L': ' ', 'top-M': ' ', 'top-R': ' ',\r\n",
        "            'mid-L': ' ', 'mid-M': ' ', 'mid-R': ' ',\r\n",
        "            'low-L': ' ', 'low-M': ' ', 'low-R': ' '}\r\n",
        "def printBoard(board):\r\n",
        "    print(board['top-L'] + '|' + board['top-M'] + '|' + board['top-R'])\r\n",
        "    print('-+-+-')\r\n",
        "    print(board['mid-L'] + '|' + board['mid-M'] + '|' + board['mid-R'])\r\n",
        "    print('-+-+-')\r\n",
        "    print(board['low-L'] + '|' + board['low-M'] + '|' + board['low-R'])\r\n",
        "turn = 'X'\r\n",
        "for i in range(9):\r\n",
        "    printBoard(theBoard)\r\n",
        "    print('Turn for ' + turn + '. Move on which space?')\r\n",
        "    move = input()\r\n",
        "    theBoard[move] = turn\r\n",
        "    if turn == 'X':\r\n",
        "        turn = 'O'\r\n",
        "    else:\r\n",
        "        turn = 'X'\r\n",
        "printBoard(theBoard)"
      ],
      "execution_count": null,
      "outputs": []
    },
    {
      "cell_type": "markdown",
      "metadata": {
        "id": "IdE7_E1V0OKj"
      },
      "source": [
        "# Practice Questions\n",
        "\n",
        "\n",
        "01.   What does the code for an empty dictionary look like?\n",
        "\n",
        "0.   What does a dictionary value with a key `'foo'` and a value `42` look like?\n",
        "\n",
        "0.   What is the main difference between a dictionary and a list?\n",
        "\n",
        "0.   What happens if you try to access `spam['foo']` if spam is `{'bar': 100}`?\n",
        "\n",
        "0. If a dictionary is stored in spam, what is the difference between the expressions `'cat' in spam` and `'cat' in spam.keys()`?\n",
        "\n",
        "0. If a dictionary is stored in spam, what is the difference between the expressions `'cat' in spam` and `'cat' in spam.values()`?\n",
        "\n",
        "0. What is a shortcut for the following code?\n",
        "_______\n",
        "```\n",
        "if 'color' not in spam:\n",
        "    spam['color'] = 'black'\n",
        "```\n",
        "_______\n",
        "\n",
        "8. What module and function can be used to “pretty print” dictionary values?"
      ]
    },
    {
      "cell_type": "markdown",
      "metadata": {
        "id": "-nIuIC5wr6Pr"
      },
      "source": [
        "# Practice Projects"
      ]
    },
    {
      "cell_type": "markdown",
      "metadata": {
        "id": "durokq6N2IVv"
      },
      "source": [
        "## Fantasy Game Inventory\n",
        "You are creating a fantasy video game. The data structure to model the player’s inventory will be a dictionary where the keys are string values describing the item in the inventory and the value is an integer value detailing how many of that item the player has. For example, the dictionary value `{'rope': 1, 'torch': 6, 'gold coin': 42, 'dagger': 1, 'arrow': 12}` means the player has 1 rope, 6 torches, 42 gold coins, and so on.\n",
        "\n",
        "Write a function named `displayInventory()` that would take any possible “inventory” and display it like the following:\n",
        "___\n",
        "```\n",
        "Inventory:\\\n",
        "12 arrow\\\n",
        "42 gold coin\\\n",
        "1 rope\\\n",
        "6 torch\\\n",
        "1 dagger\\\n",
        "Total number of items: 62\n",
        "```\n",
        "___\n",
        "*Hint: You can use a* `for` *loop to loop through all the keys in a dictionary.*\n",
        "\n"
      ]
    },
    {
      "cell_type": "markdown",
      "metadata": {
        "id": "583cFlKEkOeQ"
      },
      "source": [
        " ## List to Dictionary Function for Fantasy Game Inventory\r\n",
        "\r\n",
        "Imagine that a vanquished dragon’s loot is represented as a list of strings like this:\r\n",
        "___\r\n",
        "`dragonLoot = ['gold coin', 'dagger', 'gold coin', 'gold coin', 'ruby']`\r\n",
        "___\r\n",
        "Write a function named `addToInventory(inventory, addedItems)`, where the inventory parameter is a dictionary representing the player’s inventory (like in the previous project) and the `addedItems` parameter is a list like `dragonLoot`. The `addToInventory()` function should return a dictionary that represents the updated inventory. Note that the `addedItems` list can contain multiples of the same item. Your code could look something like this:\r\n",
        "___\r\n",
        "```\r\n",
        "def addToInventory(inventory, addedItems):\r\n",
        "    # your code goes here\r\n",
        "\r\n",
        "inv = {'gold coin': 42, 'rope': 1}\r\n",
        "dragonLoot = ['gold coin', 'dagger', 'gold coin', 'gold coin', 'ruby']\r\n",
        "inv = addToInventory(inv, dragonLoot)\r\n",
        "displayInventory(inv)\r\n",
        "```\r\n",
        "___\r\n",
        "The previous program (with your displayInventory() function from the previous project) would output the following:\r\n",
        "___\r\n",
        "```\r\n",
        "Inventory:\r\n",
        "45 gold coin\r\n",
        "1 rope\r\n",
        "1 ruby\r\n",
        "1 dagger\r\n",
        "\r\n",
        "Total number of items: 48\r\n",
        "```"
      ]
    },
    {
      "cell_type": "markdown",
      "metadata": {
        "id": "_zzZcXAFWAyZ"
      },
      "source": [
        "## Chess Dictionary Validator\r\n",
        "In this chapter, we used the dictionary value `{'1h': 'bking', '6c': 'wqueen', '2g': 'bbishop', '5h': 'bqueen', '3e': 'wking'}` to represent a chess board. Write a function named `isValidChessBoard()` that takes a dictionary argument and returns `True` or `False` depending on if the board is valid.\r\n",
        "\r\n",
        "A valid board will have exactly one black king and exactly one white king. Each player can only have at most 16 pieces, at most 8 pawns, and all pieces must be on a valid space from `'1a'` to `'8h'`; that is, a piece can’t be on space '9z'. The piece names begin with either a `'w'` or `'b'` to represent white or black, followed by `'pawn'`, `'knight'`, `'bishop'`, `'rook'`, `'queen'`, or `'king'`. This function should detect when a bug has resulted in an improper chess board."
      ]
    }
  ]
}