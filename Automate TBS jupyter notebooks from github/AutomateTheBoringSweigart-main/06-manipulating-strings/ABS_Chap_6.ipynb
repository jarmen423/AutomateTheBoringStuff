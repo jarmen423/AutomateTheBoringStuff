{
  "nbformat": 4,
  "nbformat_minor": 0,
  "metadata": {
    "colab": {
      "name": "ABS_Chap_6.ipynb",
      "provenance": [],
      "collapsed_sections": [],
      "include_colab_link": true
    },
    "kernelspec": {
      "name": "python3",
      "display_name": "Python 3"
    }
  },
  "cells": [
    {
      "cell_type": "markdown",
      "metadata": {
        "id": "view-in-github",
        "colab_type": "text"
      },
      "source": [
        "<a href=\"https://colab.research.google.com/github/UIHackyHour/AutomateTheBoringSweigart/blob/main/06-manipulating-strings/ABS_Chap_6.ipynb\" target=\"_parent\"><img src=\"https://colab.research.google.com/assets/colab-badge.svg\" alt=\"Open In Colab\"/></a>"
      ]
    },
    {
      "cell_type": "markdown",
      "metadata": {
        "id": "FafnJJKO_Ag9"
      },
      "source": [
        "# Summary \n",
        "\n",
        "Text is a common form of data, and Python comes with many helpful string methods to process the text stored in string values. You will make use of indexing, slicing, and string methods in almost every Python program you write.\n",
        "\n",
        "The programs you are writing now don’t seem too sophisticated—they don’t have graphical user interfaces with images and colorful text. So far, you’re displaying text with `print()` and letting the user enter text with `input()`. However, the user can quickly enter large amounts of text through the clipboard. This ability provides a useful avenue for writing programs that manipulate massive amounts of text. These text-based programs might not have flashy windows or graphics, but they can get a lot of useful work done quickly."
      ]
    },
    {
      "cell_type": "markdown",
      "metadata": {
        "id": "0wPrwx_A_pww"
      },
      "source": [
        "# Definitions \n",
        "\n",
        "* __Escape character__: A chracter that lets you use a subsequant character that is otherwise impossible to put into a string; in Python, this is the `/` character followed by another character.\n",
        "\n",
        "* __Raw string__: A string that doesn't follow the escape character rules. Initiated with an r before the quotation marks; e.g., `r\"This is a raw string.\"`\n",
        "\n",
        "* __String interpolation__: A process of evaluating a string literal containing one or more placeholders, yielding a result in which the placeholders are replaced with their corresponding values. In Python, this is done with the `%` character or with f-string notation.\n",
        "\n",
        "* __American Standard Code for Information Interchange (ASCII)__: encodes 128 English, numerical, and punctuation characters into seven-*bit* integers, i.e., each character is made up of a seve-digit binary integer.\n",
        "\n",
        "* __Unicode__: A standardized system for the consistent encoding, representation, and handling of text (e.g., letters, numbers, emojis, etc.) expressed in most of the world's writing systems.\n",
        "\n",
        "* __Unicode code point__: The value (an alpha-numerical value in UTF-8) that represents a character in Unicode.\n",
        "\n",
        "* __UTF-8__: Capable of encoding 1,112,064 Unicode code points. The first 128 characters of UTF-8 are made up of the ASCII character set. Unlike the ASCII standard, UTF-8 allows up to 8 bytes per character (the first 128 characters need one byte)."
      ]
    },
    {
      "cell_type": "markdown",
      "metadata": {
        "id": "zGF9xahLB0zG"
      },
      "source": [
        "# New functions covered this chapter\n",
        "\n",
        "* *stringName*`.upper()` \n",
        "* *stringName*`.lower()`\n",
        "* *stringName*`.isupper()`\n",
        "* *stringName*`.islower()`\n",
        "* *stringName*`.isalpha()`\n",
        "* *stringName*`.isalnum()`\n",
        "* *stringName*`.isdecimal()`\n",
        "* *stringName*`.isspace()`\n",
        "* *stringName*`.istitle()`\n",
        "* *stringName*`.startswith()`\n",
        "* *stringName*`.endswith()`\n",
        "* *stringName*`.join()`\n",
        "* *stringName*`.split()`\n",
        "* *stringName*`.partition()`\n",
        "* *stringName*`.rjust()`\n",
        "* *stringName*`.ljust()`\n",
        "* *stringName*`.center()`\n",
        "* *stringName*`.strip()`\n",
        "* *stringName*`.lstrip()`\n",
        "* *stringName*`.rstrip()`\n",
        "* `ord()`\n",
        "* `chr()`\n",
        "* `pyperclip.copy()` requires `import paperclip` after third-party install, unless using Anaconda\n",
        "* `pyperclip.paste()` requires `import paperclip` after third-party install, unless using Anaconda\n",
        "\n",
        "### Try using these functions, then explain what you think these functions are doing. \n",
        "#### Google them to learn more! \n",
        "(Googling is a very important skill when programming)"
      ]
    },
    {
      "cell_type": "markdown",
      "metadata": {
        "id": "qNuMfyN-B7FL"
      },
      "source": [
        "# Code snippets from this chapter"
      ]
    },
    {
      "cell_type": "code",
      "metadata": {
        "id": "qJXuT6EG-_7G"
      },
      "source": [
        "# catnapping.py \n",
        "\n",
        "print('''Dear Alice,\n",
        "\n",
        "Eve's cat has been arrested for catnapping, cat burglary, and extortion.\n",
        "\n",
        "Sincerely,\n",
        "Bob''')"
      ],
      "execution_count": null,
      "outputs": []
    },
    {
      "cell_type": "code",
      "metadata": {
        "id": "-eLrxQHpCJi7"
      },
      "source": [
        "# validateInput.py\n",
        "\n",
        "while True:\n",
        "    print('Enter your age:')\n",
        "    age = input()\n",
        "    if age.isdecimal():\n",
        "        break\n",
        "    print('Please enter a number for your age.')\n",
        "\n",
        "while True:\n",
        "    print('Select a new password (letters and numbers only):')\n",
        "    password = input()\n",
        "    if password.isalnum():\n",
        "        break\n",
        "    print('Passwords can only have letters and numbers.')"
      ],
      "execution_count": null,
      "outputs": []
    },
    {
      "cell_type": "code",
      "metadata": {
        "id": "gP8byRUyJF-W"
      },
      "source": [
        "# picnicTable.py \n",
        "\n",
        "def printPicnic(itemsDict, leftWidth, rightWidth):\n",
        "    print('PICNIC ITEMS'.center(leftWidth + rightWidth, '-'))\n",
        "    for k, v in itemsDict.items():\n",
        "        print(k.ljust(leftWidth, '.') + str(v).rjust(rightWidth))\n",
        "\n",
        "picnicItems = {'sandwiches': 4, 'apples': 12, 'cups': 4, 'cookies': 8000}\n",
        "printPicnic(picnicItems, 12, 5)\n",
        "printPicnic(picnicItems, 20, 6)"
      ],
      "execution_count": null,
      "outputs": []
    },
    {
      "cell_type": "markdown",
      "metadata": {
        "id": "qXSMoHMojaVl"
      },
      "source": [
        "# Lecture on Unicode and code points "
      ]
    },
    {
      "cell_type": "code",
      "metadata": {
        "colab": {
          "base_uri": "https://localhost:8080/",
          "height": 321
        },
        "id": "fcCH8haSkq1i",
        "outputId": "16d4f560-41b6-4e9d-fcc7-a89d920971f4"
      },
      "source": [
        "from IPython.display import YouTubeVideo\r\n",
        "YouTubeVideo('sgHbC6udIqc')\r\n",
        "# \"Pragmatic Unicode, or, How do I stop the pain?\" Ned Batchelder; PYCON 2012; Santa Clara, CA."
      ],
      "execution_count": null,
      "outputs": [
        {
          "output_type": "execute_result",
          "data": {
            "text/html": [
              "\n",
              "        <iframe\n",
              "            width=\"400\"\n",
              "            height=\"300\"\n",
              "            src=\"https://www.youtube.com/embed/sgHbC6udIqc\"\n",
              "            frameborder=\"0\"\n",
              "            allowfullscreen\n",
              "        ></iframe>\n",
              "        "
            ],
            "text/plain": [
              "<IPython.lib.display.YouTubeVideo at 0x7f7db522a828>"
            ],
            "image/jpeg": "[encoded data removed]"
          },
          "metadata": {
            "tags": []
          },
          "execution_count": 5
        }
      ]
    },
    {
      "cell_type": "markdown",
      "metadata": {
        "id": "tvrSthLxJDxj"
      },
      "source": [
        "# Practice Questions \n",
        "\n",
        "\n",
        "\n",
        "1. What are escape characters?\n",
        "\n",
        "2. What do the \\n and \\t escape characters represent?\n",
        "\n",
        "3. How can you put a \\ backslash character in a string?\n",
        "\n",
        "4. The string value \"Howl's Moving Castle\" is a valid string. Why isn’t it a problem that the single quote character in the word Howl's isn’t escaped?\n",
        "\n",
        "5. If you don’t want to put \\n in your string, how can you write a string with newlines in it?\n",
        "\n",
        "6. What do the following expressions evaluate to?\n",
        "\n",
        "```\n",
        "'Hello, world!'[1]\n",
        "'Hello, world!'[0:5]\n",
        "'Hello, world!'[:5]\n",
        "'Hello, world!'[3:]\n",
        "```\n",
        "\n",
        "7. What do the following expressions evaluate to?\n",
        "\n",
        "```\n",
        "'Hello'.upper()\n",
        "'Hello'.upper().isupper()\n",
        "'Hello'.upper().lower()\n",
        "```\n",
        "\n",
        "8. What do the following expressions evaluate to?\n",
        "\n",
        "```\n",
        "'Remember, remember, the fifth of November.'.split()\n",
        "'-'.join('There can be only one.'.split())\n",
        "```\n",
        "\n",
        "9. What string methods can you use to right-justify, left-justify, and center a string?\n",
        "\n",
        "10. How can you trim whitespace characters from the beginning or end of a string?\n",
        "\n"
      ]
    },
    {
      "cell_type": "markdown",
      "metadata": {
        "id": "HQLXr4v6Ws-W"
      },
      "source": [
        "# Practice Projects \n",
        "\n",
        "## Table Printer \n",
        "\n",
        "Write a function named `printTable()` that takes a list of lists of strings and displays it in a well-organized table with each column right-justified. Assume that all the inner lists will contain the same number of strings. For example, the value could look like this:\n",
        "```\n",
        "tableData = [['apples', 'oranges', 'cherries', 'banana'],\n",
        "             ['Alice', 'Bob', 'Carol', 'David'],\n",
        "             ['dogs', 'cats', 'moose', 'goose']]\n",
        "```\n",
        "Your `printTable()` function would print the following:\n",
        "```\n",
        "   apples Alice  dogs\n",
        "  oranges   Bob  cats\n",
        " cherries Carol moose\n",
        "   banana David goose\n",
        "```\n",
        "Hint: your code will first have to find the longest string in each of the inner lists so that the whole column can be wide enough to fit all the strings. You can store the maximum width of each column as a list of integers. The `printTable()` function can begin with `colWidths = [0] * len(tableData)`, which will create a list containing the same number of 0 values as the number of inner lists in `tableData`. That way, `colWidths[0]` can store the width of the longest string in `tableData[0]`, `colWidths[1]` can store the width of the longest string in `tableData[1]`, and so on. You can then find the largest value in the colWidths list to find out what integer width to pass to the `rjust()` string method."
      ]
    },
    {
      "cell_type": "markdown",
      "metadata": {
        "id": "KfRBxo0LXFSq"
      },
      "source": [
        "## Zombie Dice Bots \n",
        "\n",
        "Programming games are a game genre where instead of playing a game directly, players write bot programs to play the game autonomously. I’ve created a Zombie Dice simulator, which allows programmers to practice their skills while making game-playing AIs. Zombie Dice bots can be simple or incredibly complex, and are great for a class exercise or an individual programming challenge.\n",
        "\n",
        "Zombie Dice is a quick, fun dice game from Steve Jackson Games. The players are zombies trying to eat as many human brains as possible without getting shot three times. There is a cup of 13 dice with brains, footsteps, and shotgun icons on their faces. The dice icons are colored, and each color has a different likelihood of each event occurring. Every die has two sides with footsteps, but dice with green icons have more sides with brains, red-icon dice have more shotguns, and yellow-icon dice have an even split of brains and shotguns. Do the following on each player’s turn:\n",
        "\n",
        "1. Place all 13 dice in the cup. The player randomly draws three dice from the cup and then rolls them. Players always roll exactly three dice.\n",
        "\n",
        "2. They set aside and count up any brains (humans whose brains were eaten) and shotguns (humans who fought back). Accumulating three shotguns automatically ends a player’s turn with zero points (regardless of how many brains they had). If they have between zero and two shotguns, they may continue rolling if they want. They may also choose to end their turn and collect one point per brain.\n",
        "\n",
        "3. If the player decides to keep rolling, they must reroll all dice with footsteps. Remember that the player must always roll three dice; they must draw more dice out of the cup if they have fewer than three footsteps to roll. A player may keep rolling dice until either they get three shotguns—losing everything—or all 13 dice have been rolled. A player may not reroll only one or two dice, and may not stop mid-reroll.\n",
        "\n",
        "4. When someone reaches 13 brains, the rest of the players finish out the round. The person with the most brains wins. If there’s a tie, the tied players play one last tiebreaker round.\n",
        "\n",
        "Zombie Dice has a push-your-luck game mechanic: the more you reroll the dice, the more brains you can get, but the more likely you’ll eventually accrue three shotguns and lose everything. Once a player reaches 13 points, the rest of the players get one more turn (to potentially catch up) and the game ends. The player with the most points wins. You can find the complete rules at https://github.com/asweigart/zombiedice/.\n",
        "\n",
        "Install the zombiedice module with pip by following the instructions in Appendix A. You can run a demo of the simulator with some pre-made bots by running the following in the interactive shell:\n",
        "\n",
        "```\n",
        ">>> import zombiedice\n",
        ">>> zombiedice.demo()\n",
        "Zombie Dice Visualization is running. Open your browser to http://\n",
        "localhost:51810 to view it.\n",
        "Press Ctrl-C to quit.\n",
        "```\n",
        "You’ll create bots by writing a class with a turn() method, which is called by the simulator when it’s your bot’s turn to roll the dice. Classes are beyond the scope of this book, so the class code is already set up for you in the myzombie.py program, which is in the downloadable ZIP file for this book at https://nostarch.com/automatestuff2/. Writing a method is essentially the same as writing a function, and you can use the turn() code in the myZombie.py program as a template. Inside this turn() method, you’ll call the zombiedice.roll() function as often as you want your bot to roll the dice.\n",
        "\n",
        "The turn() method takes two parameters: self and gameState. You can ignore these in your first few zombie bots and consult the online documentation for details later if you want to learn more. The turn() method should call zombiedice.roll() at least once for the initial roll. Then, depending on the strategy the bot uses, it can call zombiedice.roll() again as many times as it wants. In myZombie.py, the turn() method calls zombiedice.roll() twice, which means the zombie bot will always roll its dice two times per turn regardless of the results of the roll.\n",
        "\n",
        "The return value of zombiedice.roll() tells your code the results of the dice roll. It is a dictionary with four keys. Three of the keys, 'shotgun', 'brains', and 'footsteps', have integer values of how many dice came up with those icons. The fourth 'rolls' key has a value that is a list of tuples for each die roll. The tuples contain two strings: the color of the die at index 0 and the icon rolled at index 1. Look at the code comments in the turn() method’s definition for an example. If the bot has already rolled three shotguns, then zombiedice.roll() will return None.\n",
        "\n",
        "Try writing some of your own bots to play Zombie Dice and see how they compare against the other bots. Specifically, try to create the following bots:\n",
        "\n",
        "A bot that, after the first roll, randomly decides if it will continue or stop\n",
        "A bot that stops rolling after it has rolled two brains\n",
        "A bot that stops rolling after it has rolled two shotguns\n",
        "A bot that initially decides it’ll roll the dice one to four times, but will stop early if it rolls two shotguns\n",
        "A bot that stops rolling after it has rolled more shotguns than brains\n",
        "Run these bots through the simulator and see how they compare to each other. You can also examine the code of some premade bots at https://github.com/asweigart/zombiedice/. If you find yourself playing this game in the real world, you’ll have the benefit of thousands of simulated games telling you that one of the best strategies is to simply stop once you’ve rolled two shotguns. But you could always try pressing your luck . . ."
      ]
    },
    {
      "cell_type": "code",
      "metadata": {
        "id": "YBaDp2lAY4Ms"
      },
      "source": [
        "# Zombie Dice\n",
        "\n",
        "import zombiedice\n",
        "\n",
        "class MyZombie:\n",
        "    def __init__(self, name):\n",
        "        # All zombies must have a name:\n",
        "        self.name = name\n",
        "\n",
        "    def turn(self, gameState):\n",
        "        # gameState is a dict with info about the current state of the game.\n",
        "        # You can choose to ignore it in your code.\n",
        "\n",
        "        diceRollResults = zombiedice.roll() # first roll\n",
        "        # roll() returns a dictionary with keys 'brains', 'shotgun', and\n",
        "        # 'footsteps' with how many rolls of each type there were.\n",
        "        # The 'rolls' key is a list of (color, icon) tuples with the\n",
        "        # exact roll result information.\n",
        "        # Example of a roll() return value:\n",
        "        # {'brains': 1, 'footsteps': 1, 'shotgun': 1,\n",
        "        #  'rolls': [('yellow', 'brains'), ('red', 'footsteps'),\n",
        "        #            ('green', 'shotgun')]}\n",
        "\n",
        "        # REPLACE THIS ZOMBIE CODE WITH YOUR OWN:\n",
        "        brains = 0\n",
        "        while diceRollResults is not None:\n",
        "            brains += diceRollResults['brains']\n",
        "\n",
        "            if brains < 2:\n",
        "                diceRollResults = zombiedice.roll() # roll again\n",
        "            else:\n",
        "                break\n",
        "\n",
        "zombies = (\n",
        "    zombiedice.examples.RandomCoinFlipZombie(name='Random'),\n",
        "    zombiedice.examples.RollsUntilInTheLeadZombie(name='Until Leading'),\n",
        "    zombiedice.examples.MinNumShotgunsThenStopsZombie(name='Stop at 2\n",
        "Shotguns', minShotguns=2),\n",
        "    zombiedice.examples.MinNumShotgunsThenStopsZombie(name='Stop at 1\n",
        "Shotgun', minShotguns=1),\n",
        "    MyZombie(name='My Zombie Bot'),\n",
        "    # Add any other zombie players here.\n",
        ")\n",
        "\n",
        "# Uncomment one of the following lines to run in CLI or Web GUI mode:\n",
        "#zombiedice.runTournament(zombies=zombies, numGames=1000)\n",
        "zombiedice.runWebGui(zombies=zombies, numGames=1000)"
      ],
      "execution_count": null,
      "outputs": []
    }
  ]
}