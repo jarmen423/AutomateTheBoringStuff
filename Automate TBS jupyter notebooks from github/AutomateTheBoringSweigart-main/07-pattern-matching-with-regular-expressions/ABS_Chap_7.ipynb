{
  "nbformat": 4,
  "nbformat_minor": 0,
  "metadata": {
    "colab": {
      "name": "ABS_Chap_7.ipynb",
      "provenance": [],
      "collapsed_sections": [],
      "include_colab_link": true
    },
    "kernelspec": {
      "name": "python3",
      "display_name": "Python 3"
    }
  },
  "cells": [
    {
      "cell_type": "markdown",
      "metadata": {
        "id": "view-in-github",
        "colab_type": "text"
      },
      "source": [
        "<a href=\"https://colab.research.google.com/github/UIHackyHour/AutomateTheBoringSweigart/blob/main/07-pattern-matching-with-regular-expressions/ABS_Chap_7.ipynb\" target=\"_parent\"><img src=\"https://colab.research.google.com/assets/colab-badge.svg\" alt=\"Open In Colab\"/></a>"
      ]
    },
    {
      "cell_type": "markdown",
      "metadata": {
        "id": "c8pn8hzOhZr2"
      },
      "source": [
        "# Summary\r\n",
        "\r\n",
        "While a computer can search for text quickly, it must be told precisely what to look for. Regular expressions allow you to specify the pattern of characters you are looking for, rather than the exact text itself. In fact, some word processing and spreadsheet applications provide find-and-replace features that allow you to search using regular expressions.\r\n",
        "\r\n",
        "The re module that comes with Python lets you compile Regex objects. These objects have several methods: `search()` to find a single match, `findall()` to find all matching instances, and `sub()` to do a find-and-replace substitution of text."
      ]
    },
    {
      "cell_type": "markdown",
      "metadata": {
        "id": "CVJAQw8dhuhy"
      },
      "source": [
        "# Definitions\n",
        "\n",
        "* __Regular expressions__: Regular expressions, called regexes for short, are descriptions for a pattern of text, and allow you to specify a pattern of text to search for.\n",
        "\n",
        "* __Pipe__: Allows for more than one expression to be searched.\n",
        "\n",
        "* __Greedy__: By default, Python interprets ambiguous regular expressions by the longest possible sting.\n",
        "\n"
      ]
    },
    {
      "cell_type": "markdown",
      "metadata": {
        "id": "93FmRxcTh06e"
      },
      "source": [
        "# New functions covered in this chapter\r\n",
        "\r\n",
        "*   `\\re.compile()` requires `import re`\r\n",
        "*   `re.DOTALL`requires `import re`\r\n",
        "*   `re.IGNORECASE` requires `import re`\r\n",
        "*   `re.VERBOSE` requires `import re`\r\n",
        "*   `search()`\r\n",
        "*   `group()`\r\n",
        "*   `groups()`\r\n",
        "*   `findall()`\r\n",
        "*   `sub()`\r\n",
        "\r\n",
        "\r\n",
        "\r\n",
        "### Try using these functions, then explain what you think these functions are doing. \r\n",
        "#### Google them to learn more! \r\n",
        "(Googling is a very important skill when programming)"
      ]
    },
    {
      "cell_type": "markdown",
      "metadata": {
        "id": "WR4Yy_lzT79I"
      },
      "source": [
        "# Regex cheat sheet\r\n",
        "\r\n",
        "*   `r''` raw text string\r\n",
        "*   `\\d` == `(0|1|2|3|4|5|6|7|8|9)`\r\n",
        "*   `\\D` =! `(0|1|2|3|4|5|6|7|8|9)`\r\n",
        "*   `\\w` == `[a-zA-Z0-9_]`\r\n",
        "*   `\\W` =! `[a-zA-Z0-9_]`\r\n",
        "*   `\\s` == `[\\n\\t ]`\r\n",
        "*   `\\S` =! `[\\n\\t ]`\r\n",
        "*   `\\d{3}` == `\\d\\d\\d`\r\n",
        "*   `()?` not greedy\r\n",
        "*   `()*` match zero or more\r\n",
        "*   `()+` match one or more\r\n",
        "*   `(){3}` match 3 times\r\n",
        "*   `(){3,5}` match 3, 4, or 5 (greedy)\r\n",
        "*   `(){3,5}?` not greedy\r\n",
        "*   `[a-zA-Z]`\r\n",
        "*   `.` anything but a newline\r\n",
        "*   `.*` anything but a newline of any length"
      ]
    },
    {
      "cell_type": "markdown",
      "metadata": {
        "id": "BwVWnRLOiTXd"
      },
      "source": [
        "# Code Snippets"
      ]
    },
    {
      "cell_type": "code",
      "metadata": {
        "id": "cqQPyekKhtOA"
      },
      "source": [
        "# isPhoneNumber.py\r\n",
        "\r\n",
        "def isPhoneNumber(text):\r\n",
        "    if len(text) != 12:\r\n",
        "        return False\r\n",
        "    for i in range(0, 3):\r\n",
        "        if not text[i].isdecimal():\r\n",
        "            return False\r\n",
        "    if text[3] != '-':\r\n",
        "        return False\r\n",
        "    for i in range(4, 7):\r\n",
        "        if not text[i].isdecimal():\r\n",
        "            return False\r\n",
        "    if text[7] != '-':\r\n",
        "        return False\r\n",
        "    for i in range(8, 12):\r\n",
        "        if not text[i].isdecimal():\r\n",
        "            return False\r\n",
        "    return True\r\n",
        "\r\n",
        "print('Is 415-555-4242 a phone number?')\r\n",
        "print(isPhoneNumber('415-555-4242'))\r\n",
        "print('Is Moshi moshi a phone number?')\r\n",
        "print(isPhoneNumber('Moshi moshi'))"
      ],
      "execution_count": null,
      "outputs": []
    },
    {
      "cell_type": "code",
      "metadata": {
        "id": "FsvXTNr295UV"
      },
      "source": [
        "# isPhoneNumber.py with for loop search\r\n",
        "\r\n",
        "def isPhoneNumber(text):\r\n",
        "    if len(text) != 12:\r\n",
        "        return False\r\n",
        "    for i in range(0, 3):\r\n",
        "        if not text[i].isdecimal():\r\n",
        "            return False\r\n",
        "    if text[3] != '-':\r\n",
        "        return False\r\n",
        "    for i in range(4, 7):\r\n",
        "        if not text[i].isdecimal():\r\n",
        "            return False\r\n",
        "    if text[7] != '-':\r\n",
        "        return False\r\n",
        "    for i in range(8, 12):\r\n",
        "        if not text[i].isdecimal():\r\n",
        "            return False\r\n",
        "    return True\r\n",
        "\r\n",
        "message = 'Call me at 415-555-1011 tomorrow. 415-555-9999 is my office.'\r\n",
        "for i in range(len(message)):\r\n",
        "    chunk = message[i:i+12]\r\n",
        "    if isPhoneNumber(chunk):\r\n",
        "        print('Phone number found: ' + chunk)\r\n",
        "print('Done')"
      ],
      "execution_count": null,
      "outputs": []
    },
    {
      "cell_type": "markdown",
      "metadata": {
        "id": "NqGWlbnVietT"
      },
      "source": [
        "# Practice Questions\r\n",
        "\r\n",
        "1. What is the function that creats `Regex` objects?\r\n",
        "1. Why are raw strings often used when creating `Regex` objects?\r\n",
        "1. What does the `search()` method return?\r\n",
        "1. How do you get the actual strings that match the pattern from a `Match` object?\r\n",
        "1. In the regex created from `r'(\\d\\d\\d)-(\\d\\d\\d-\\d\\d\\d\\d)'`, what does group 0 cover? Group 1? Group 2?\r\n",
        "1. Parentheses and periods have specific meanings in regular expression syntax. How would you specify that you want a regex to match actual parentheses and period characters?\r\n",
        "1. The `findall()` method returns a list of strings or a list of tuples of strings. What makes it return one or the other?\r\n",
        "1. What does the `|` character signify in regular expressions?\r\n",
        "1. What two things does the `?` character signify in regular expressions?\r\n",
        "1. What is the difference between the `+` and `*` characters in regular expressions?\r\n",
        "1. What is the difference between `{3}` and `{3,5}` in regular expressions?\r\n",
        "1. What do the `\\d`, `\\w`, and `\\s` shorthand character classes signify in regular expressions?\r\n",
        "1. What do the `\\D`, `\\W`, and `\\S` shorthand character classes signify in regular expressions?\r\n",
        "1. What is the difference between `.*` and `.*?`?\r\n",
        "1. What is the character class syntax to match all numbers and lowercase letters?\r\n",
        "1. How do you make a regular expression case-insensitive?\r\n",
        "1. What does the `.` character normally match? What does it match if `re.DOTALL` is passed as the second argument to `re.compile()`?\r\n",
        "1. If `numRegex = re.compile(r'\\d+')`, what will `numRegex.sub('X', '12 drummers, 11 pipers, five rings, 3 hens')` return?\r\n",
        "1. What does passing `re.VERBOSE` as the second argument to `re.compile()` allow you to do?\r\n",
        "1. How would you write a regex that matches a number with commas for every three digits? It must match the following:\r\n",
        "* `'42'`\r\n",
        "* `'1,234'`\r\n",
        "* `'6,368,745'`\r\n",
        "\r\n",
        "but not the following:\r\n",
        "* `'12,34,567'` (which has only two digits between the commas)\r\n",
        "* `'1234'` (which lacks commas)\r\n",
        "21. How would you write a regex that matches the full name of someone whose last name is Watanabe? You can assume that the first name that comes before it will always be one word that begins with a capital letter. The regex must match the following:\r\n",
        "\r\n",
        "* `'Haruto Watanabe'`\r\n",
        "* `'Alice Watanabe'`\r\n",
        "* `'RoboCop Watanabe'`\r\n",
        "\r\n",
        "but not the following:\r\n",
        "\r\n",
        "* `'haruto Watanabe'` (where the first name is not capitalized)\r\n",
        "* `'Mr. Watanabe'` (where the preceding word has a nonletter character)\r\n",
        "* `'Watanabe'` (which has no first name)\r\n",
        "* `'Haruto watanabe'` (where Watanabe is not capitalized)\r\n",
        "22. How would you write a regex that matches a sentence where the first word is either *Alice*, *Bob*, or *Carol*; the second word is either *eats*, *pets*, or *throws*; the third word is *apples*, *cats*, or *baseballs*; and the sentence ends with a period? This regex should be case-insensitive. It must match the following:\r\n",
        "\r\n",
        "* `'Alice eats apples.'`\r\n",
        "* `'Bob pets cats.'`\r\n",
        "* `'Carol throws baseballs.'`\r\n",
        "* `'Alice throws Apples.'`\r\n",
        "* `'BOB EATS CATS.'`\r\n",
        "\r\n",
        "but not the following:\r\n",
        "\r\n",
        "* `'RoboCop eats apples.'`\r\n",
        "* `'ALICE THROWS FOOTBALLS.'`\r\n",
        "* `'Carol eats 7 cats.'`"
      ]
    },
    {
      "cell_type": "markdown",
      "metadata": {
        "id": "T2jPPctGD821"
      },
      "source": [
        "# Practice Projects\r\n",
        "\r\n",
        "## Date Detection\r\n",
        "\r\n",
        "Write a regular expression that can detect dates in the DD / MM / YYYY format. Assume that the days range from 01 to 31, the months range from 01 to 12, and the years range from 1000 to 2999. Note that if the day or month is a single digit, it’ll have a leading zero.\r\n",
        "\r\n",
        "The regular expression doesn’t have to detect correct days for each month or for leap years; it will accept nonexistent dates like 31 / 02 / 2020 or 31 / 04 / 2021. Then store these strings into variables named month, day, and year, and write additional code that can detect if it is a valid date. April, June, September, and November have 30 days, February has 28 days, and the rest of the months have 31 days. February has 29 days in leap years. Leap years are every year evenly divisible by 4, except for years evenly divisible by 100, unless the year is also evenly divisible by 400. Note how this calculation makes it impossible to make a reasonably sized regular expression that can detect a valid date."
      ]
    },
    {
      "cell_type": "markdown",
      "metadata": {
        "id": "o-F5yR8eES94"
      },
      "source": [
        "## Strong Password Detection\r\n",
        "\r\n",
        "Write a function that uses regular expressions to make sure the password string it is passed is strong. A strong password is defined as one that is at least eight characters long, contains both uppercase and lowercase characters, and has at least one digit. You may need to test the string against multiple regex patterns to validate its strength."
      ]
    },
    {
      "cell_type": "markdown",
      "metadata": {
        "id": "nwBkxbLrEbRK"
      },
      "source": [
        "## Regex Version of the `strip()` Method\r\n",
        "\r\n",
        "Write a function that takes a string and does the same thing as the `strip()` string method. If no other arguments are passed other than the string to strip, then whitespace characters will be removed from the beginning and end of the string. Otherwise, the characters specified in the second argument to the function will be removed from the string."
      ]
    }
  ]
}