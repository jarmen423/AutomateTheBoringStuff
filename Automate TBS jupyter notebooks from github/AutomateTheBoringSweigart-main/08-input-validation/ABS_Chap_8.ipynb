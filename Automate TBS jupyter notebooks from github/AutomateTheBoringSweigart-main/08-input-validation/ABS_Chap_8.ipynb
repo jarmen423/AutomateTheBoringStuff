{
  "nbformat": 4,
  "nbformat_minor": 0,
  "metadata": {
    "colab": {
      "name": "ABS_Chap_8.ipynb",
      "provenance": [],
      "collapsed_sections": [],
      "include_colab_link": true
    },
    "kernelspec": {
      "name": "python3",
      "display_name": "Python 3"
    }
  },
  "cells": [
    {
      "cell_type": "markdown",
      "metadata": {
        "id": "view-in-github",
        "colab_type": "text"
      },
      "source": [
        "<a href=\"https://colab.research.google.com/github/UIHackyHour/AutomateTheBoringSweigart/blob/main/08-input-validation/ABS_Chap_8.ipynb\" target=\"_parent\"><img src=\"https://colab.research.google.com/assets/colab-badge.svg\" alt=\"Open In Colab\"/></a>"
      ]
    },
    {
      "cell_type": "markdown",
      "metadata": {
        "id": "t92B6mrppG-p"
      },
      "source": [
        "# Summary\n",
        "\n",
        "It’s easy to forget to write input validation code, but without it, your programs will almost certainly have bugs. The values you expect users to enter and the values they actually enter can be completely different, and your programs need to be robust enough to handle these exceptional cases. You can use regular expressions to create your own input validation code, but for common cases, it’s easier to use an existing module, such as `PyInputPlus`. You can import the module with `import pyinputplus as pyip` so that you can enter a shorter name when calling the module’s functions.\n",
        "\n",
        "PyInputPlus has functions for entering a variety of input, including strings, numbers, dates, yes/no, True/False, emails, and files. While `input()` always returns a string, these functions return the value in an appropriate data type. The `inputChoice()` function allow you to select one of several pre-selected options, while `inputMenu()` also adds numbers or letters for quick selection.\n",
        "\n",
        "All of these functions have the following standard features: stripping whitespace from the sides, setting timeout and retry limits with the timeout and limit keyword arguments, and passing lists of regular expression strings to `allowRegexes` or `blockRegexes` to include or exclude particular responses. You'll no longer need to write your own tedious while loops that check for valid input and reprompt the user.\n",
        "\n",
        "If none of the PyInputPlus module’s, functions fit your needs, but you’d still like the other features that PyInputPlus provides, you can call `inputCustom()` and pass your own custom validation function for PyInputPlus to use. The documentation at https://pyinputplus.readthedocs.io/en/latest/ has a complete listing of PyInputPlus’s functions and additional features. There’s far more in the PyInputPlus online documentation than what was described in this chapter. There’s no use in reinventing the wheel, and learning to use this module will save you from having to write and debug code for yourself.\n",
        "\n",
        "Now that you have expertise manipulating and validating text, it’s time to learn how to read from and write to files on your computer’s hard drive."
      ]
    },
    {
      "cell_type": "markdown",
      "metadata": {
        "id": "N4GhyFZqxs8q"
      },
      "source": [
        "# Definitions\n",
        "\n",
        "* __Input validation code__: Code that verfiies user values (e.g., text assigned by `input()`) are formatted correctly. This prevents bugs and security vulnerabiliets."
      ]
    },
    {
      "source": [
        "# Modules used in this chapter\n",
        "\n",
        "* `pyinputplus`"
      ],
      "cell_type": "markdown",
      "metadata": {}
    },
    {
      "cell_type": "markdown",
      "metadata": {
        "id": "LrquGmi3FJuG"
      },
      "source": [
        "# New functions covered in this chapter\n",
        "\n",
        "\n",
        "*   `pyinputplus.inputStr()`\n",
        "*   `pyinputplus.inputNum()`\n",
        "*   `pyinputplus.inputInt()`\n",
        "*   `pyinputplus.inputFloat()`\n",
        "*   `pyinputplus.inputChoice()`\n",
        "*   `pyinputplus.inputMenu()`\n",
        "*   `pyinputplus.inputDatetime()`\n",
        "*   `pyinputplus.inputYesNo()`\n",
        "*   `pyinputplus.inputBool()`\n",
        "*   `pyinputplus.inputEmail()`\n",
        "*   `pyinputplus.inputFilepath()`\n",
        "*   `pyinputplus.inputPassword()`\n",
        "*   `pyinputplus.inputCustom()`\n",
        "\n",
        "### Try using these functions, then explain what you think these functions are doing. \n",
        "#### Google them to learn more! \n",
        "(Googling is a very important skill when programming)"
      ]
    },
    {
      "cell_type": "markdown",
      "metadata": {
        "id": "LRgtyr4r1e1c"
      },
      "source": [
        "# Practice Questions\n",
        "\n",
        "1. Does PyInputPlus come with the Python Standard Library?\n",
        "\n",
        "2. Why is PyInputPlus commonly imported with `import pyinputplus as pyip`?\n",
        "\n",
        "3. What is the difference between `inputInt()` and `inputFloat()`?\n",
        "\n",
        "4. How can you ensure that the user enters a whole number between `0` and `99` using PyInputPlus?\n",
        "\n",
        "5. What is passed to the `allowRegexes` and `blockRegexes` keyword arguments?\n",
        "\n",
        "6. What does `inputStr(limit=3)` do if blank input is entered three times?\n",
        "\n",
        "7. What does `inputStr(limit=3, default='hello')` do if blank input is entered three times?\n",
        "\n"
      ]
    },
    {
      "cell_type": "markdown",
      "metadata": {
        "id": "mREl_DaB2RQT"
      },
      "source": [
        "# Practice Projects"
      ]
    },
    {
      "cell_type": "markdown",
      "metadata": {
        "id": "au2sQsCJ2F96"
      },
      "source": [
        "## *Sandwich Maker*\n",
        "Write a program that asks users for their sandwich preferences. The program should use PyInputPlus to ensure that they enter valid input, such as:\n",
        "\n",
        "* Using `inputMenu()` for a bread type: wheat, white, or sourdough.\n",
        "* Using `inputMenu()` for a protein type: chicken, turkey, ham, or tofu.\n",
        "* Using `inputYesNo()` to ask if they want cheese.\n",
        "** If so, using `inputMenu()` to ask for a cheese type: cheddar, Swiss, or mozzarella.\n",
        "* Using `inputYesNo()` to ask if they want mayo, mustard, lettuce, or tomato.\n",
        "* Using `inputInt()` to ask how many sandwiches they want. Make sure this number is 1 or more.\n",
        "\n",
        "Come up with prices for each of these options, and have your program display a total cost after the user enters their selection.\n",
        "\n"
      ]
    },
    {
      "cell_type": "markdown",
      "metadata": {
        "id": "ilwaOhda2QPW"
      },
      "source": [
        "\n",
        "## *Write Your Own Multiplication Quiz*\n",
        "To see how much PyInputPlus is doing for you, try re-creating the multiplication quiz project on your own without importing it. This program will prompt the user with 10 multiplication questions, ranging from 0 × 0 to 9 × 9. You’ll need to implement the following features:\n",
        "\n",
        "* If the user enters the correct answer, the program displays “Correct!” for 1 second and moves on to the next question.\n",
        "* The user gets three tries to enter the correct answer before the program moves on to the next question.\n",
        "* Eight seconds after first displaying the question, the question is marked as incorrect even if the user enters the correct answer after the 8-second limit.\n",
        "\n",
        "Compare your code to the code using PyInputPlus in “Project: Multiplication Quiz” in Chapter 8.\n"
      ]
    }
  ]
}