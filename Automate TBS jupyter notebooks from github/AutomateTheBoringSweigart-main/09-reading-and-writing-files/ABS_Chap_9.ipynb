{
  "nbformat": 4,
  "nbformat_minor": 0,
  "metadata": {
    "colab": {
      "name": "ABS_Chap_9.ipynb",
      "provenance": [],
      "collapsed_sections": [],
      "include_colab_link": true
    },
    "kernelspec": {
      "name": "python3",
      "display_name": "Python 3"
    }
  },
  "cells": [
    {
      "cell_type": "markdown",
      "metadata": {
        "id": "view-in-github",
        "colab_type": "text"
      },
      "source": [
        "<a href=\"https://colab.research.google.com/github/UIHackyHour/AutomateTheBoringSweigart/blob/main/09-reading-and-writing-files/ABS_Chap_9.ipynb\" target=\"_parent\"><img src=\"https://colab.research.google.com/assets/colab-badge.svg\" alt=\"Open In Colab\"/></a>"
      ]
    },
    {
      "cell_type": "markdown",
      "metadata": {
        "id": "y75Hu4kI7_vj"
      },
      "source": [
        "# Summary\r\n",
        "\r\n",
        "Files are organized into folders (also called directories), and a path describes the location of a file. Every program running on your computer has a current working directory, which allows you to specify file paths relative to the current location instead of always typing the full (or absolute) path. The `pathlib` and `os.path` modules have many functions for manipulating file paths.\r\n",
        "\r\n",
        "Your programs can also directly interact with the contents of text files. The `open()` function can open these files to read in their contents as one large string (with the `read()` method) or as a list of strings (with the `readlines()` method). The `open()` function can open files in write or append mode to create new text files or add to existing text files, respectively.\r\n",
        "\r\n",
        "In previous chapters, you used the clipboard as a way of getting large amounts of text into a program, rather than typing it all in. Now you can have your programs read files directly from the hard drive, which is a big improvement, since files are much less volatile than the clipboard."
      ]
    },
    {
      "cell_type": "markdown",
      "metadata": {
        "id": "ik1KvAei8iih"
      },
      "source": [
        "# Definitions\n",
        "\n",
        "* __Path__: Specifies the location of a file on the computer. File path is determined on Windows by a drive, parent, and name of file. On Mac and Linux, file path is determined by an anchor, parent, and name of the file. See Figure 9-4 for more on file path. See Figure 9-5 for directory path.\n",
        "\n",
        "* __Plaintext files__: Contain only basic text characters and do not include font, size, or color information. Text files with the `.txt` extension or Python script files with the `.py` extension are examples of plaintext files.\n",
        "\n",
        "* __Binary files__: All other types of files. \n",
        "\n",
        "* __Read mode__: Files opened in read mode cannot be edited.\n",
        "\n",
        "* __Write plaintext__: Content can be written to file.\n",
        "\n",
        "* __Append plaintext mode__: Content can be added to file."
      ]
    },
    {
      "cell_type": "markdown",
      "metadata": {
        "id": "DdJYSkGwEObh"
      },
      "source": [
        "# Packages used in this chapter\r\n",
        "\r\n",
        "* `pathlib`\r\n",
        "* `os`\r\n",
        "* `os.path`\r\n",
        "* `shelve`\r\n",
        "* `pprint`"
      ]
    },
    {
      "cell_type": "markdown",
      "metadata": {
        "id": "MtBOClj-8m1C"
      },
      "source": [
        "# New functions, operators, and attribrutes covered in this chapter\r\n",
        "\r\n",
        "* `Path()` requires `from pathlib import Path`\r\n",
        "* `Path.cwd()`\r\n",
        "* `os.chdir()`\r\n",
        "* `Path.home()`\r\n",
        "* `mkdir()`\r\n",
        "* `os.makedirs()`\r\n",
        "* `is_absolute()`\r\n",
        "* `os.path.abspath(`*path*`)`\r\n",
        "* `os.path.isabs(`*path*`)`\r\n",
        "* `os.path.relpath(`*path, start*`)`\r\n",
        "* *path*.`glob('*')`\r\n",
        "* `list(`*path*`.glob('*.txt')`\r\n",
        "* `os.listdir()`\r\n",
        "* `Path.cwd()`\r\n",
        "* `os.path.basename(`*path*`)`\r\n",
        "* `os.path.dirname(`*path*`)`\r\n",
        "* `os.path.split(`*path*`)`\r\n",
        "* *path*`.split(os.sep)`\r\n",
        "* `os.path.getsize(`*path*`)`\r\n",
        "* `os.path.join()`\r\n",
        "* *path*`.exists()`\r\n",
        "* *path*`.is_file()`\r\n",
        "* *path*`.is_dir()`\r\n",
        "* `os.path.exists(`*path*`)`\r\n",
        "* `os.path.isfile(`*path*`)`\r\n",
        "* `os.path.isdir(`*path*`)`\r\n",
        "* `open()`\r\n",
        "* `open('`*file name*`', r)`\r\n",
        "* `open('`*file name*`', w)`\r\n",
        "* `open('`*file name*`', a)`\r\n",
        "* *file object*`.read()`\r\n",
        "* *file object*`.readlines()`\r\n",
        "* *file object*`.write()`\r\n",
        "* *file object*`.close()`\r\n",
        "* `shelve.open('`*file name*`')`\r\n",
        "* `shelve.close('`*file name*`')`\r\n",
        "* `shelve.open('`*file name*`')['`*list name*`']`\r\n",
        "* `/`\r\n",
        "* *path*`.anchor`\r\n",
        "* *path*`.parent`\r\n",
        "* *path*`.name`\r\n",
        "* *path*`.stem`\r\n",
        "* *path*`.suffix`\r\n",
        "* *path*`.drive`\r\n",
        "\r\n",
        "Try using these functions and operators, then explain what you think they are doing.\r\n",
        "Google them to learn more!\r\n",
        "\r\n",
        "(Googling is a very important skill when programming)"
      ]
    },
    {
      "cell_type": "markdown",
      "metadata": {
        "id": "TFfbDvM_dFtn"
      },
      "source": [
        "# Practice Questions\r\n",
        "\r\n",
        "1. What is a relative path relative to?\r\n",
        "\r\n",
        "2. What does an absolute path start with?\r\n",
        "\r\n",
        "3. What does `Path('C:/Users') / 'Al'` evaluate to on Windows?\r\n",
        "\r\n",
        "4. What does `'C:/Users' / 'Al'` evaluate to on Windows?\r\n",
        "\r\n",
        "5. What do the `os.getcwd()` and `os.chdir()` functions do?\r\n",
        "\r\n",
        "6. What are the `.` and `..` folders?\r\n",
        "\r\n",
        "7. In `C:\\bacon\\eggs\\spam.txt`, which part is the dir name, and which part is the base name?\r\n",
        "\r\n",
        "8. What are the three “mode” arguments that can be passed to the `open()` function?\r\n",
        "\r\n",
        "9. What happens if an existing file is opened in write mode?\r\n",
        "\r\n",
        "10. What is the difference between the `read()` and `readlines()` methods?\r\n",
        "\r\n",
        "11. What data structure does a shelf value resemble?\r\n",
        "\r\n",
        "12. What does `import shelve` enable a program to do to files?"
      ]
    },
    {
      "cell_type": "markdown",
      "metadata": {
        "id": "gr17vvn4sZ2a"
      },
      "source": [
        "# Practice Projects"
      ]
    },
    {
      "cell_type": "markdown",
      "metadata": {
        "id": "ta_6XRwosfrb"
      },
      "source": [
        "## *Extending the Multi-Clipboard*\n",
        "Extend the multi-clipboard program in this chapter so that it has a `delete <keyword>` command line argument that will delete a keyword from the shelf. Then add a `delete` command line argument that will delete *all* keywords."
      ]
    },
    {
      "cell_type": "markdown",
      "metadata": {
        "id": "X9B_Au4at-31"
      },
      "source": [
        "## *Mad Libs*\n",
        "Create a Mad Libs program that reads in text files and lets the user add their own text anywhere the word *ADJECTIVE*, *NOUN*, *ADVERB*, or *VERB* appears in the text file. For example, a text file may look like this:\n",
        "\n",
        "> The ADJECTIVE panda walked to the NOUN and then VERB. A nearby NOUN was\n",
        "unaffected by these events.\n",
        "\n",
        "\n",
        "The program would find these occurrences and prompt the user to replace them.\n",
        "\n",
        "\n",
        ">Enter an adjective:\n",
        ">\n",
        ">**silly**\n",
        ">\n",
        ">Enter a noun:\n",
        ">\n",
        ">**chandelier**\n",
        ">\n",
        ">Enter a verb:\n",
        ">\n",
        ">**screamed**\n",
        ">\n",
        ">Enter a noun:\n",
        ">\n",
        ">**pickup truck**\n",
        "\n",
        "\n",
        "The following text file would then be created:\n",
        "\n",
        "\n",
        ">The silly panda walked to the chandelier and then screamed. A nearby pickup truck was unaffected by these events.\n",
        "\n",
        "\n",
        "The results should be printed to the screen and saved to a new text file."
      ]
    },
    {
      "cell_type": "markdown",
      "metadata": {
        "id": "VqSLjSJ1Rc79"
      },
      "source": [
        "## *Regex Search*\n",
        "\n",
        "Write a program that opens all `.txt` files in a folder and searches for any line that matches a user-supplied regular expression. The results should be printed to the screen."
      ]
    }
  ]
}