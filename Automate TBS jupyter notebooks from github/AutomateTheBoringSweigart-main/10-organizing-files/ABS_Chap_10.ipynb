{
  "nbformat": 4,
  "nbformat_minor": 0,
  "metadata": {
    "colab": {
      "name": "ABS_Chap_10.ipynb",
      "provenance": [],
      "collapsed_sections": [],
      "authorship_tag": "ABX9TyMUCmQOZsIY1y3OnN7fzBgS",
      "include_colab_link": true
    },
    "kernelspec": {
      "name": "python3",
      "display_name": "Python 3"
    }
  },
  "cells": [
    {
      "cell_type": "markdown",
      "metadata": {
        "id": "view-in-github",
        "colab_type": "text"
      },
      "source": [
        "<a href=\"https://colab.research.google.com/github/UIHackyHour/AutomateTheBoringSweigart/blob/main/10-organizing-files/ABS_Chap_10.ipynb\" target=\"_parent\"><img src=\"https://colab.research.google.com/assets/colab-badge.svg\" alt=\"Open In Colab\"/></a>"
      ]
    },
    {
      "cell_type": "markdown",
      "metadata": {
        "id": "Y-2j9ED0tnlj"
      },
      "source": [
        "#Summary\n",
        "\n",
        "Even if you are an experienced computer user, you probably handle files manually with the mouse and keyboard. Modern file explorers make it easy to work with a few files. But sometimes you’ll need to perform a task that would take hours using your computer’s file explorer.\n",
        "\n",
        "The `os` and `shutil` modules offer functions for copying, moving, renaming, and deleting files. When deleting files, you might want to use the `send2trash` module to move files to the recycle bin or trash rather than permanently deleting them. And when writing programs that handle files, it’s a good idea to comment out the code that does the actual copy / move / rename / delete and add a `print()` call instead so you can run the program and verify exactly what it will do.\n",
        "\n",
        "Often you will need to perform these operations not only on files in one folder but also on every folder in that folder, every folder in those folders, and so on. The `os.walk()` function handles this trek across the folders for you so that you can concentrate on what your program needs to do with the files in them.\n",
        "\n",
        "The `zipfile` module gives you a way of compressing and extracting files in .ZIP archives through Python. Combined with the file-handling functions of `os` and `shutil`, `zipfile` makes it easy to package up several files from anywhere on your hard drive. These `.ZIP` files are much easier to upload to websites or send as email attachments than many separate files.\n",
        "\n",
        "Previous chapters of this book have provided source code for you to copy. But when you write your own programs, they probably won’t come out perfectly the first time. The next chapter focuses on some Python modules that will help you analyze and debug your programs so that you can quickly get them working correctly."
      ]
    },
    {
      "cell_type": "markdown",
      "metadata": {
        "id": "GQaEIQpz4BPP"
      },
      "source": [
        "# Definitions\n",
        "\n",
        "No new definitions this chapter "
      ]
    },
    {
      "source": [
        "# Modules used in this chapter\n",
        "\n",
        "* `shutil`\n",
        "* `os`\n",
        "* `zipfile`"
      ],
      "cell_type": "markdown",
      "metadata": {}
    },
    {
      "cell_type": "markdown",
      "metadata": {
        "id": "5HCCPzWV4Ofx"
      },
      "source": [
        "# New functions covered in this chapter\n",
        "\n",
        "\n",
        "*   `shutil.copy()`\n",
        "*   `shutil.copytree()`\n",
        "*   `shutil.move()`\n",
        "*   `shutil.rmtree()`\n",
        "*   `send2trash.send2trash()`\n",
        "*   `os.walk()`\n",
        "*   `zipfile.ZipFile()`\n",
        "*   `zipfile.namelist()`\n",
        "*   `zipfile.extractall()`\n",
        "\n",
        "\n",
        "### Try using these functions, then explain what you think these functions are doing. \n",
        "#### Google them to learn more! \n",
        "(Googling is a very important skill when programming)"
      ]
    },
    {
      "cell_type": "markdown",
      "metadata": {
        "id": "3oFOlgdn63nH"
      },
      "source": [
        " # Practice Questions \n",
        "\n",
        "1. What is the difference between `shutil.copy()` and `shutil.copytree()`?\n",
        "\n",
        "2. What function is used to rename files?\n",
        "\n",
        "3. What is the difference between the \"delete\" functions in the `send2trash` and `shutil` modules?\n",
        "\n",
        "4. ZipFile objects have a `close()` method just like File objects’ `close()` method. What ZipFile method is equivalent to File objects’ `open()` method?\n",
        "\n"
      ]
    },
    {
      "cell_type": "markdown",
      "metadata": {
        "id": "zN38onAO7WEx"
      },
      "source": [
        "# Practice Projects "
      ]
    },
    {
      "cell_type": "markdown",
      "metadata": {
        "id": "FviqDxoF7ZOM"
      },
      "source": [
        "## *Selective Copy*\n",
        "\n",
        "Write a program that walks through a folder tree and searches for files with a certain file extension (such as *.pdf* or *.jpg*). Copy these files from whatever location they are in to a new folder.\n",
        "\n"
      ]
    },
    {
      "cell_type": "markdown",
      "metadata": {
        "id": "lllWtCU_7fOA"
      },
      "source": [
        "## *Deleting Unneeded Files*\n",
        "It’s not uncommon for a few unneeded but humongous files or folders to take up the bulk of the space on your hard drive. If you’re trying to free up room on your computer, you’ll get the most bang for your buck by deleting the most massive of the unwanted files. But first you have to find them.\n",
        "\n",
        "Write a program that walks through a folder tree and searches for exceptionally large files or folders—say, ones that have a file size of more than 100MB. (Remember that to get a file’s size, you can use `os.path.getsize()` from the `os` module.) Print these files with their absolute path to the screen."
      ]
    },
    {
      "cell_type": "markdown",
      "metadata": {
        "id": "wHuG40W77j-i"
      },
      "source": [
        "## *Filling in the Gaps*\n",
        "\n",
        "Write a program that finds all files with a given prefix, such as *spam001.txt*, *spam002.txt*, and so on, in a single folder and locates any gaps in the numbering (such as if there is a *spam001.txt* and *spam003.txt* but no *spam002.txt*). Have the program rename all the later files to close this gap.\n",
        "\n",
        "As an added challenge, write another program that can insert gaps into numbered files so that a new file can be added"
      ]
    }
  ]
}