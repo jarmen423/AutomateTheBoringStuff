{
  "nbformat": 4,
  "nbformat_minor": 0,
  "metadata": {
    "colab": {
      "name": "ABS_Chap_11.ipynb",
      "provenance": [],
      "collapsed_sections": []
    },
    "kernelspec": {
      "name": "python3",
      "display_name": "Python 3",
      "language": "python"
    }
  },
  "cells": [
    {
      "source": [
        "<a href=\"https://colab.research.google.com/github/UIHackyHour/AutomateTheBoringSweigart/blob/main/11-debugging/ABS_Chap_11.ipynb\" target=\"_parent\"><img src=\"https://colab.research.google.com/assets/colab-badge.svg\" alt=\"Open In Colab\"/></a>"
      ],
      "cell_type": "markdown",
      "metadata": {}
    },
    {
      "cell_type": "markdown",
      "metadata": {
        "id": "yFCGnmbvZ-4w"
      },
      "source": [
        "# Summary\r\n",
        "Assertions, exceptions, logging, and the debugger are all valuable tools to find and prevent bugs in your program. Assertions with the Python assert statement are a good way to implement “sanity checks” that give you an early warning when a necessary condition doesn’t hold true. Assertions are only for errors that the program shouldn’t try to recover from and should fail fast. Otherwise, you should raise an exception.\r\n",
        "\r\n",
        "An exception can be caught and handled by the try and except statements. The `logging` module is a good way to look into your code while it’s running and is much more convenient to use than the `print()` function because of its different logging levels and ability to log to a text file.\r\n",
        "\r\n",
        "The debugger lets you step through your program one line at a time. Alternatively, you can run your program at normal speed and have the debugger pause execution whenever it reaches a line with a breakpoint set. Using the debugger, you can see the state of any variable’s value at any point during the program’s lifetime."
      ]
    },
    {
      "source": [
        "# Definitions\n",
        "\n",
        "* __Exceptions__: Errors detected during execution.\n",
        "* __Traceback__: Error information that includes an error message, the line number of the line that caused the error, and the call stack.\n",
        "* __Call stack__: The sequence of the function calls the led to the error.\n",
        "* __Assertion__: A sanity check on your program to ensure is it's doing anything obviously wrong. These should be used to fins programmer errors and not user errors."
      ],
      "cell_type": "markdown",
      "metadata": {}
    },
    {
      "cell_type": "markdown",
      "metadata": {
        "id": "KYGFKG51rYjo"
      },
      "source": [
        "# Packages used in this chapter\n",
        "\n",
        "* `logging`\n",
        "* `traceback`"
      ]
    },
    {
      "cell_type": "markdown",
      "metadata": {
        "id": "qOFfSWpseaMp"
      },
      "source": [
        "# New functions covered in this chapter\n",
        "\n",
        "* logging.basicConfig()\n",
        "* logging.debug()\n",
        "* logging.disable(logging.CRITICAL)\n",
        "* logging.info()\n",
        "* logging.warning()\n",
        "* logging.error()\n",
        "* logging.critical()"
      ]
    },
    {
      "source": [
        "# Logging Levels\n",
        "\n",
        "* DEBUG"
      ],
      "cell_type": "markdown",
      "metadata": {}
    },
    {
      "source": [
        "# Code Snippits"
      ],
      "cell_type": "markdown",
      "metadata": {}
    },
    {
      "cell_type": "code",
      "execution_count": null,
      "metadata": {},
      "outputs": [],
      "source": [
        "# boxPrint.py\n",
        "\n",
        "def boxPrint(symbol, width, height):\n",
        "    if len(symbol) != 1:\n",
        "        raise Exception('Symbol must be a single character string.')\n",
        "    if width<=2:\n",
        "        raise Exception('Width must be greater than 2.')\n",
        "    if height<= 2:\n",
        "        raise Exception('Height must be greater than 2.')\n",
        "    print(symbol*width)\n",
        "    for i in range(height-2):\n",
        "        print(symbol+(' '*(width-2))+symbol)\n",
        "    print(symbol*width)\n",
        "\n",
        "for sym, w, h in (('*', 4, 4), ('O', 20, 5), ('x', 1, 3), ('ZZ', 3, 3)):\n",
        "    try:\n",
        "        boxPrint(sym,w,h)\n",
        "    except Exception as err:\n",
        "        print('An exception happened: ' + str(err))"
      ]
    },
    {
      "cell_type": "code",
      "execution_count": null,
      "metadata": {},
      "outputs": [],
      "source": [
        "# errorExample.py\n",
        "\n",
        "def spam():\n",
        "    bacon()\n",
        "def bacon():\n",
        "    raise Exception('This is the error message.')\n",
        "spam()"
      ]
    },
    {
      "cell_type": "markdown",
      "metadata": {
        "id": "mf0cLewUeF8C"
      },
      "source": [
        "# Practice Questions"
      ]
    },
    {
      "source": [
        "1. Write an assert statement that triggers an `AssertionError` if the variable `spam` is an integer less than 10.\n",
        "\n",
        "2. Write an assert statement that triggers an `AssertionError` if the variables `eggs` and `bacon` contain strings that are the same as each other, even if their cases are different (that is, `'hello'` and 'hello' are considered the same, and `'goodbye'` and `'GOODbye'` are also considered the same).\n",
        "\n",
        "3. Write an assert statement that always triggers an `AssertionError`.\n",
        "\n",
        "4. What are the two lines that your program must have in order to be able to call `logging.debug()`?\n",
        "\n",
        "5. What are the two lines that your program must have in order to have `logging.debug()` send a logging message to a file named *programLog.txt*?\n",
        "\n",
        "6. What are the five logging levels?\n",
        "\n",
        "7. What line of code can you add to disable all logging messages in your program?\n",
        "\n",
        "8. Why is using logging messages better than using `print()` to display the same message?"
      ],
      "cell_type": "markdown",
      "metadata": {}
    },
    {
      "source": [
        "# Practice Project"
      ],
      "cell_type": "markdown",
      "metadata": {}
    },
    {
      "source": [
        "## Debugging Coin Toss\n",
        "\n",
        "The following program is meant to be a simple coin toss guessing game. The player gets two guesses (it’s an easy game). However, the program has several bugs in it. Run through the program a few times to find the bugs that keep the program from working correctly.\n",
        "___\n",
        "```\n",
        "import random\n",
        "guess = ''\n",
        "while guess not in ('heads', 'tails'):\n",
        "    print('Guess the coin toss! Enter heads or tails:')\n",
        "    guess = input()\n",
        "toss = random.randint(0, 1) # 0 is tails, 1 is heads\n",
        "if toss == guess:\n",
        "    print('You got it!')\n",
        "else:\n",
        "    print('Nope! Guess again!')\n",
        "    guesss = input()\n",
        "    if toss == guess:\n",
        "        print('You got it!')\n",
        "    else:\n",
        "        print('Nope. You are really bad at this game.')\n",
        "```"
      ],
      "cell_type": "markdown",
      "metadata": {}
    }
  ]
}