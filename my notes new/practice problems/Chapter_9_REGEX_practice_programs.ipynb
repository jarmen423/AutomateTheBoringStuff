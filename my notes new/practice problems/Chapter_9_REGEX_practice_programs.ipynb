{
  "nbformat": 4,
  "nbformat_minor": 0,
  "metadata": {
    "colab": {
      "provenance": []
    },
    "kernelspec": {
      "name": "python3",
      "display_name": "Python 3"
    },
    "language_info": {
      "name": "python"
    }
  },
  "cells": [
    {
      "cell_type": "markdown",
      "source": [
        "# **Extract Contact Information from Large Documents**\n",
        "\n",
        "## **High Level Plan:**\n",
        "**Phone number an email extractor will have to**\n",
        "\n",
        "- Get the text from the clipboard\n",
        "\n",
        "- Find all phone number and email adresses in the text\n",
        "\n",
        "- Paste them onto the clipboard.\n",
        "\n",
        "### **Plan of how to achieve goals using code**\n",
        "\n",
        "- Use `pyperclip` mod to copy and paste strings.\n",
        "\n",
        "- create 2 regexes, one for matching phone number and one for matching email addresses.\n",
        "\n",
        "- Find all matches (not ust the first match) of both regexes.\n",
        "\n",
        "- Neatly format the matched strings into a single string to paste.\n",
        "\n",
        "- Display some kind of message if not matches were found in the text.\n",
        "\n"
      ],
      "metadata": {
        "id": "MDeSrdfyHhn4"
      }
    },
    {
      "cell_type": "code",
      "execution_count": null,
      "metadata": {
        "id": "j0wfSyZ0xEt6"
      },
      "outputs": [],
      "source": [
        "import pyperclip\n",
        "import re\n",
        "\n",
        "# Create regex for matching phone numbers\n",
        "phone_re = re.compile(r'''(\n",
        "  (\\d{3}|\\d{3}\\))? # Area code\n",
        "  (\\s|-|\\.)? # Separator\n",
        "  (\\d{3}) # First three digits\n",
        "  (\\s|-|\\.) # Separator\n",
        "  (\\d{4}) # Last four digits\n",
        "  (\\s*(ext|x|ext\\.)\\s*(\\d{2,5}))? # Extension\n",
        ")''', re.VERBOSE)\n",
        "\n",
        "\n",
        "# Create regex for matching emails.\n",
        "email_re = re.compile(r'''(\n",
        "  [a-zA-Z0-9._%+-]+ #Username\n",
        "  @ # @ symbol\n",
        "  [a-zA-Z0-9.-]+ # Domain name\n",
        "  (\\.[a-zA-Z]{2,4}) # Dot-something\n",
        ")''', re.VERBOSE)\n",
        "\n",
        "# Find matches in clipboard text.\n",
        "\n",
        "\n",
        "# Copy results to the clipboard."
      ]
    },
    {
      "cell_type": "markdown",
      "source": [
        "\n",
        "\n",
        "*   regex for area code:\n",
        "    - followed by `?` because its optional\n",
        "    - Can be just 3 digits `\\d{3}`\n",
        "    - or can be 3 digits within parentheses `\\(d{3}\\)`\n",
        "    - `|` pipe charachter between the two options\n",
        "\n",
        "*   regex for phone number separator character\n",
        "    - can be an optional space `\\s`\n",
        "    - can be optional hyphen `-`\n",
        "    - can be optional period `.`\n",
        "    - pipe `|` between each option\n",
        "\n",
        "\n",
        "\n",
        "*   regex for extension:\n",
        "    - any number of spaces `\\s*`\n",
        "    - ext, x, or ext. `(ext|x|ext\\.)`\n",
        "    - 2 - to 5 digits `(\\d{2,5})`\n",
        "\n",
        "- **NOTE**:\n",
        "    - *groups with parentheses `()` vs. escaped parentheses `\\(\\)`*\n",
        "    \n",
        "    - *if you get a \"missing), unterminated subpattern\" error message double check you are using the correct syntax for parentheses.\n"
      ],
      "metadata": {
        "id": "x6Fyi8x-LP-c"
      }
    },
    {
      "cell_type": "code",
      "source": [],
      "metadata": {
        "id": "a_LsViMwHdp7"
      },
      "execution_count": null,
      "outputs": []
    }
  ]
}