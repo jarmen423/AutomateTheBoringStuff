{
 "cells": [
  {
   "cell_type": "markdown",
   "id": "6665ac54",
   "metadata": {},
   "source": [
    "### Long way without regex"
   ]
  },
  {
   "cell_type": "code",
   "execution_count": null,
   "id": "01af505a",
   "metadata": {},
   "outputs": [],
   "source": [
    "def is_phone_number(text):\n",
    "    if len(text) != 12: #phone numbers have exactly 12 characters\n",
    "        return False\n",
    "    for i in range(0, 3): #The first 3 characters must be numbers.\n",
    "        if not text[i].isdecimal():\n",
    "            return False\n",
    "    if text[3] != '-': #The 4th character must be a dash.\n",
    "        return False\n",
    "    for i in range (4, 7): #The next 3 characters must be numbers.\n",
    "        if not text[i].isdecimal():\n",
    "            return False\n",
    "    for i in range(8, 12): #The next four characters must be numbers. \n",
    "        if not text[i].isdecimal():\n",
    "            return False\n",
    "    return True\n"
   ]
  },
  {
   "cell_type": "code",
   "execution_count": null,
   "id": "7cd6bc58",
   "metadata": {},
   "outputs": [],
   "source": [
    "block code:\n",
    "message = 'Call me at 415-555-1011 tomorrow. 415-555-9999 is my office.'\n",
    "for i in range(len(message)):\n",
    "    segment = message[i:i+12]\n",
    "    if is_phone_number(segment):\n",
    "        print(\"phone number found:\" + segment)\n",
    "print(\"Done\")\n"
   ]
  },
  {
   "cell_type": "code",
   "execution_count": 1,
   "id": "9a32daf9",
   "metadata": {},
   "outputs": [
    {
     "name": "stdout",
     "output_type": "stream",
     "text": [
      "415-555-4242\n"
     ]
    }
   ],
   "source": [
    "#Regex uses\n",
    "import re\n",
    "phone_num_pattern_obj = re.compile(r'\\d{3}-\\d{3}-\\d{4}')\n",
    "match_obj = phone_num_pattern_obj.search(\"My number is 415-555-4242.\")\n",
    "print(match_obj.group())\n"
   ]
  },
  {
   "cell_type": "markdown",
   "id": "3527bb00",
   "metadata": {},
   "source": [
    "#### The | character is called a pipe. It's used as the alternation operator in regex.\n",
    "You can use it anywhere you want to match one of multiple expressions.\n",
    "    ex. r'Cat|Dog' will match either 'Cat' or 'Dog'."
   ]
  },
  {
   "cell_type": "code",
   "execution_count": 2,
   "id": "815e9c97",
   "metadata": {},
   "outputs": [
    {
     "name": "stdout",
     "output_type": "stream",
     "text": [
      "Catch\n",
      "ch\n"
     ]
    }
   ],
   "source": [
    "import re\n",
    "pattern = re.compile(r'Cat(erpillar|astastrophe|ch|egory)')\n",
    "match = pattern.search(\"Catch me if you can.\")\n",
    "print(match.group())\n",
    "print(match.group(1))"
   ]
  },
  {
   "cell_type": "markdown",
   "id": "e22be656",
   "metadata": {},
   "source": [
    ".findall() method will return the strings of EVERY match in the searched string.\n",
    "\n",
    "compared to .search() method which will return a match object of the first matched text in a searched string.\n",
    "\n",
    "Keep in mind: \n",
    "\n",
    "the .findall() method returns a list of strings AS LONG AS THERE ARE NO GROUPS\n",
    "IN THE REGULAR EXPRESSION..."
   ]
  },
  {
   "cell_type": "code",
   "execution_count": null,
   "id": "ce7e7062",
   "metadata": {},
   "outputs": [],
   "source": [
    "import re\n",
    "pattern = re.compile(r'\\d{3}-\\d{3}-\\d{4}') #This regex has no groups\n",
    "print(pattern.findall('Cell: 415-555-9999 Work: 212-555-0000'))\n",
    "\n",
    "#if there are groups in the regex, .findall() will return a list of tuples.\n",
    "#each tuple represents a single match\n",
    "#and the tuple has strings for each group in the regex\n",
    "import re\n",
    "pattern = re.compile(r'(\\d{3})-(\\d{3})-(\\d{4})') #This regex has groups\n",
    "print(pattern.findall('Cell: 415-555-9999 Work: 212-555-0000'))\n",
    "\n",
    "#also, .findall() does not overlap matches...\n",
    "\n",
    "import re\n",
    "pattern = re.compile(r'\\d{3}')\n",
    "print(pattern.findall('1234'))\n",
    "print(pattern.findall('12345'))\n",
    "print(pattern.findall('123456'))"
   ]
  },
  {
   "cell_type": "markdown",
   "id": "0a6ae83e",
   "metadata": {},
   "source": [
    "#### QUALIFIER SYNTAX:\n",
    "    Using Character Classes and Negative Character Classes:\n",
    "        Define a set of character to match inside [] square brackets = character class:\n",
    "           [aeiouAEIOU] will match any vowel, both upper and lower case\n",
    "\n",
    "            [aeiouAEIOU] = a|e|i|o|u|A|E|I|O|U but easier to type"
   ]
  },
  {
   "cell_type": "code",
   "execution_count": null,
   "id": "91568a6e",
   "metadata": {},
   "outputs": [],
   "source": [
    "import re\n",
    "vowel_pattern = re.compile(r'[aeiouAEIOU]')\n",
    "vowel_pattern.findall('RoboCop eats BABY FOOD.')\n",
    "print(vowel_pattern.findall('RoboCop eats BABY FOOD.'))"
   ]
  },
  {
   "cell_type": "code",
   "execution_count": null,
   "id": "bc9cfcdc",
   "metadata": {},
   "outputs": [],
   "source": [
    "#Can inclue ranges in classes:\n",
    "#ex. character class [a-zA-Z0-9] will match all lower/uppercase letters\n",
    "# and numbers.\n",
    "# nb. inside square brackets do not nee escape characters like \\\n",
    "\n",
    "#Negative Character class: (will match all characters NOT in the class)\n",
    "#done by placing a caret ^ just after the class's opening bracket\n",
    "\n",
    "import re\n",
    "consonant_pattern = re.compile(r'[^aeiouAEIOU]')\n",
    "consonant_pattern.findall(\"RoboCop eats BABY FOOD.\")\n",
    "print(consonant_pattern.findall(\"RoboCop eats BABY FOOD.\"))"
   ]
  },
  {
   "cell_type": "markdown",
   "id": "d28911a5",
   "metadata": {},
   "source": [
    "Table 9-1: Shorthand Codes for Common Character Classes\n",
    "Shorthand character class\n",
    "\n",
    "| Shorthand | Represents...                                                                            |\n",
    "|-----|------------------------------------------------------------------------------------------------|\n",
    "| `\\d`|   Any numeric digit from 0 to 9                                                                  |\n",
    "| `\\D`|   Any character that is *not* a numeric digit                                                    |\n",
    "| `\\w`|   Any letter, numeric digit, or the underscore character.<br>(Think of this as matching \"word\" characters.) |\n",
    "| `\\W`|   Any character that is not a letter, numeric digit, or the underscore character                 |\n",
    "| `\\s`|   Any space, tab, or newline character.<br>(Think of this as matching “space” characters.)       |\n",
    "| `\\S`|   Any character that is not a space, tab, or newline character                                   |\n",
    "  \n",
    "  ![alt text](image.png)\n",
    "\n",
    "nb. no shorthand character class that matches only letters, t/f if you want to match only letters try [a-zA-Z] but will only work for roman alphabet letters. \n"
   ]
  },
  {
   "cell_type": "code",
   "execution_count": null,
   "id": "d539832a",
   "metadata": {},
   "outputs": [],
   "source": [
    "import re\n",
    "pattern = re.compile(r'\\d+\\s\\w+')\n",
    "print(pattern.findall('12 drummers, 11 pipers, 10 lords, 9 ladies, 8 maids, 7 swans, 6 geese, 5 rings, 4 birds, 3 hens, 2 doves, 1 partridge'))\n",
    "```\n",
    "### The . character in a regex string matches any character except for a newline.\n",
    "```python\n",
    "import re\n",
    "at_re = re.compile(r'.at')\n",
    "at_re.findall(\"The cat in the hat sat on the flat mat.\")\n",
    "print(at_re.findall(\"The cat in the hat sat on the flat mat.\"))\n"
   ]
  },
  {
   "cell_type": "markdown",
   "id": "29ef9f7b",
   "metadata": {},
   "source": [
    "##### Matching an optional pattern:\n",
    "- ? tags the preceeding qualifier as optional..."
   ]
  },
  {
   "cell_type": "code",
   "execution_count": 1,
   "id": "67170383",
   "metadata": {},
   "outputs": [
    {
     "name": "stdout",
     "output_type": "stream",
     "text": [
      "<re.Match object; span=(0, 3), match='42!'>\n",
      "<re.Match object; span=(0, 2), match='42'>\n"
     ]
    }
   ],
   "source": [
    "import re\n",
    "pattern = re.compile(r'42!?')\n",
    "pattern.search('42!')\n",
    "print(pattern.search('42!'))\n",
    "\n",
    "print(pattern.search('42'))"
   ]
  },
  {
   "cell_type": "markdown",
   "id": "f0f00aa3",
   "metadata": {},
   "source": [
    "The ? part of regex means that the pattern ! is optional. So it matches both 42! (with the exclamation mark) and 42 (without it). \n",
    "\n"
   ]
  },
  {
   "cell_type": "code",
   "execution_count": null,
   "id": "d6d682c0",
   "metadata": {},
   "outputs": [
    {
     "name": "stdout",
     "output_type": "stream",
     "text": [
      "<re.Match object; span=(0, 3), match='42!'>\n",
      "<re.Match object; span=(0, 2), match='4!'>\n",
      "None\n"
     ]
    }
   ],
   "source": [
    "import re\n",
    "pattern = re.compile(r'42?!')\n",
    "print(pattern.search('42!'))\n",
    "print(pattern.search('4!'))\n",
    "print(pattern.search('42')) #No match"
   ]
  },
  {
   "cell_type": "markdown",
   "id": "cf1f64df",
   "metadata": {},
   "source": [
    "To make multiple characters optional, place them in a group and put the ? after the group.\n",
    "\n",
    "Think of the group as saying **\"Match zero or one of the group preceeding this question mark.\"**"
   ]
  },
  {
   "cell_type": "code",
   "execution_count": 6,
   "id": "13ad100a",
   "metadata": {},
   "outputs": [
    {
     "name": "stdout",
     "output_type": "stream",
     "text": [
      "415-555-4242\n",
      "555-4242\n"
     ]
    }
   ],
   "source": [
    "pattern = re.compile(r'(\\d{3}-)?\\d{3}-\\d{4}')\n",
    "match1 = pattern.search('My number is 415-555-4242')\n",
    "print(match1.group())\n",
    "match2 = pattern.search('My number is 555-4242')\n",
    "print(match2.group())"
   ]
  }
 ],
 "metadata": {
  "kernelspec": {
   "display_name": "Python 3",
   "language": "python",
   "name": "python3"
  },
  "language_info": {
   "codemirror_mode": {
    "name": "ipython",
    "version": 3
   },
   "file_extension": ".py",
   "mimetype": "text/x-python",
   "name": "python",
   "nbconvert_exporter": "python",
   "pygments_lexer": "ipython3",
   "version": "3.13.6"
  }
 },
 "nbformat": 4,
 "nbformat_minor": 5
}
