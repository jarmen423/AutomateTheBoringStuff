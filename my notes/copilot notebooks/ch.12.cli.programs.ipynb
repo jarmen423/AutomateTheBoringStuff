{
 "cells": [
  {
   "cell_type": "markdown",
   "metadata": {},
   "source": [
    "# Chapter 12 — Designing and Deploying Command‑Line Programs\n",
    "\n",
    "## 🎯 Learning Goals\n",
    "- Explain what a command‑line interface (CLI) is and why it’s useful.\n",
    "- Run Python scripts directly from a terminal instead of an editor.\n",
    "- Navigate the filesystem from the command line.\n",
    "- Configure the `PATH` environment variable for easier script execution.\n",
    "- Create and activate Python virtual environments.\n",
    "- Install and manage packages with `pip`.\n",
    "- Make your scripts self‑aware (know their own location, interpreter, and environment).\n",
    "- Accept and process command‑line arguments.\n",
    "- Design text‑based user interfaces for practical tools."
   ]
  },
  {
   "cell_type": "markdown",
   "metadata": {},
   "source": [
    "## 1. Why the Command Line Still Matters\n",
    "The command line is like the backstage entrance to your computer — no flashy lights, no distractions, just direct access to the controls. While GUIs are great for discovery, the CLI is unbeatable for speed, automation, and reproducibility."
   ]
  },
  {
   "cell_type": "markdown",
   "metadata": {},
   "source": [
    "## 2. Key Terminology\n",
    "| Term | Meaning |\n",
    "|------|---------|\n",
    "| **Program** | Any complete set of instructions a computer can run. |\n",
    "| **Script** | A program run from source code by an interpreter (like Python). |\n",
    "| **Command** | A program typically run from a terminal, often without a GUI. |\n",
    "| **Shell script / Batch file** | A text file containing multiple commands to run in sequence. |\n",
    "| **Application** | A program with a GUI and multiple features. |\n",
    "| **Web app** | A program accessed through a browser, running on a server. |"
   ]
  },
  {
   "cell_type": "markdown",
   "metadata": {},
   "source": [
    "## 3. Opening a Terminal\n",
    "- **Windows**: Search for *Command Prompt*, *PowerShell*, or *Windows Terminal*.\n",
    "- **macOS**: Open *Terminal* from Spotlight.\n",
    "- **Linux**: Press `Ctrl+Alt+T` or search for *Terminal*."
   ]
  },
  {
   "cell_type": "markdown",
   "metadata": {},
   "source": [
    "## 4. Navigating the Filesystem"
   ]
  },
  {
   "cell_type": "code",
   "metadata": {},
   "source": [
    "# macOS/Linux\n",
    "pwd        # Show current directory\n",
    "ls         # List files\n",
    "cd ~/projects\n",
    "ls"
   ]
  },
  {
   "cell_type": "code",
   "metadata": {},
   "source": [
    "# Windows PowerShell\n",
    "pwd        # Show current directory\n",
    "dir        # List files\n",
    "cd C:\\\\Users\\\\YourName\\\\projects\n",
    "dir"
   ]
  },
  {
   "cell_type": "markdown",
   "metadata": {},
   "source": [
    "## 5. Running Python Scripts from the CLI"
   ]
  },
  {
   "cell_type": "code",
   "metadata": {},
   "source": [
    "# macOS/Linux\n",
    "python3 hello.py"
   ]
  },
  {
   "cell_type": "code",
   "metadata": {},
   "source": [
    "# Windows\n",
    "python hello.py"
   ]
  },
  {
   "cell_type": "markdown",
   "metadata": {},
   "source": [
    "## 6. The PATH Environment Variable\n",
    "`PATH` is a list of folders the OS searches when you type a command name.\n",
    "\n",
    "View it:\n",
    "- Windows: `echo %PATH%`\n",
    "- macOS/Linux: `echo $PATH`\n",
    "\n",
    "If your script’s folder is in `PATH`, you can run it from anywhere without `cd`‑ing into its directory."
   ]
  },
  {
   "cell_type": "code",
   "metadata": {},
   "source": [
    "# macOS/Linux\n",
    "echo $PATH"
   ]
  },
  {
   "cell_type": "code",
   "metadata": {},
   "source": [
    "# Windows\n",
    "echo %PATH%"
   ]
  },
  {
   "cell_type": "markdown",
   "metadata": {},
   "source": [
    "## 7. Virtual Environments"
   ]
  },
  {
   "cell_type": "code",
   "metadata": {},
   "source": [
    "# Create a virtual environment\n",
    "python3 -m venv .venv\n",
    "\n",
    "# Activate\n",
    "source .venv/bin/activate   # macOS/Linux\n",
    ".venv\\\\Scripts\\\\activate      # Windows\n",
    "\n",
    "# Deactivate\n",
    "deactivate"
   ]
  },
  {
   "cell_type": "markdown",
   "metadata": {},
   "source": [
    "## 8. Installing Packages with pip"
   ]
  },
  {
   "cell_type": "code",
   "metadata": {},
   "source": [
    "python -m pip install requests\n",
    "python -m pip list\n",
    "python -m pip uninstall requests"
   ]
  },
  {
   "cell_type": "markdown",
   "metadata": {},
   "source": [
    "## 9. Making Scripts Self‑Aware"
   ]
  },
  {
   "cell_type": "code",
   "metadata": {},
   "source": [
    "import sys, os\n",
    "from pathlib import Path\n",
    "\n",
    "print(\"Script path:\", __file__)\n",
    "print(\"Python interpreter:\", sys.executable)\n",
    "print(\"Python version:\", sys.version)\n",
    "print(\"OS type:\", os.name)"
   ]
  },
  {
   "cell_type": "markdown",
   "metadata": {},
   "source": [
    "## 10. Command‑Line Arguments"
   ]
  },
  {
   "cell_type": "code",
   "metadata": {},
   "source": [
    "# greet.py\n",
    "import sys\n",
    "\n",
    "if len(sys.argv) > 1:\n",
    "    name = sys.argv[1]\n",
    "    print(f\"Hello, {name}!\")\n",
    "else:\n",
    "    print(\"Hello, world!\")"
   ]
  },
  {
   "cell_type": "markdown",
   "metadata": {},
   "source": [
    "## 11. Designing Text‑Based Interfaces"
   ]
  },
  {
   "cell_type": "code",
   "metadata": {},
   "source": [
    "import argparse\n",
    "\n",
    "parser = argparse.ArgumentParser(description=\"Greet someone from the CLI.\")\n",
    "parser.add_argument(\"name\", help=\"The name of the person to greet\")\n",
    "args = parser.parse_args()\n",
    "\n",
    "print(f\"Hello, {args.name}!\")"
   ]
  },
  {
   "cell_type": "markdown",
   "metadata": {},
   "source": [
    "## 12. Mini‑Project: Quick Note Saver"
   ]
  },
  {
   "cell_type": "code",
   "metadata": {},
   "source": [
    "# note.py\n",
    "import sys\n",
    "from datetime import datetime\n",
    "from pathlib import Path\n",
    "\n",
    "notes_dir = Path.home() / \"notes\"\n",
    "notes_dir.mkdir(exist_ok=True)\n",
    "\n",
    "if len(sys.argv) < 2:\n",
    "    print(\"Usage: note.py 'your note here'\")\n",
    "    sys.exit(1)\n",
    "\n",
    "note_text = \" \".join(sys.argv[1:])\n",
    "timestamp = datetime.now().strftime(\"%Y-%m-%d_%H-%M-%S\")\n",
    "note_file = notes_dir / f\"{timestamp}.txt\"\n",
    "\n",
    "note_file.write_text(note_text)\n",
    "print(f\"Note saved to {note_file}"]
  },
  {
   "cell_type": "markdown",
   "metadata": {},
   "source": [
    "## 13. Exercises\n",
    "1. Write a script that counts the number of lines in a file given as an argument.\n",
    "2. Create a CLI tool that downloads a web page and saves it locally.\n",
    "3. Modify the note saver to append to a single `notes.txt` file instead of creating new files."
   ]
  },
  {
   "cell_type": "markdown",
   "metadata": {},
   "source": [
    "## ✅ Summary\n",
    "- The CLI is a powerful way to run and share Python programs.\n",
    "- `PATH` lets you run scripts without typing full paths.\n",
    "- Virtual environments keep dependencies clean.\n",
    "- `pip` installs and manages packages.\n",
    "- `sys.argv` lets your scripts accept arguments for flexible behavior."
   ]
  }
 ],
 "metadata": {
  "kernelspec": {
   "display_name": "Python 3",
   "language": "python",
   "name": "python3"
  },
  "language_info": {
   "name": "python",
   "version": "3.x"
  }
 },
 "nbformat": 4,
 "nbformat_minor": 5
}
